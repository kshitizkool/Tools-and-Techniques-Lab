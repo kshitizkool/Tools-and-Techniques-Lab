{
  "nbformat": 4,
  "nbformat_minor": 0,
  "metadata": {
    "colab": {
      "provenance": [],
      "authorship_tag": "ABX9TyPbZNbARazVwETxD0C1Uzbu",
      "include_colab_link": true
    },
    "kernelspec": {
      "name": "python3",
      "display_name": "Python 3"
    },
    "language_info": {
      "name": "python"
    }
  },
  "cells": [
    {
      "cell_type": "markdown",
      "metadata": {
        "id": "view-in-github",
        "colab_type": "text"
      },
      "source": [
        "<a href=\"https://colab.research.google.com/github/kshitizkool/Tools-and-Techniques-Lab/blob/main/T%26TLab1.ipynb\" target=\"_parent\"><img src=\"https://colab.research.google.com/assets/colab-badge.svg\" alt=\"Open In Colab\"/></a>"
      ]
    },
    {
      "cell_type": "code",
      "execution_count": null,
      "metadata": {
        "colab": {
          "base_uri": "https://localhost:8080/"
        },
        "id": "gErYZlN_HisM",
        "outputId": "72f3aec5-d96c-4708-9e10-db71f547c87a"
      },
      "outputs": [
        {
          "output_type": "stream",
          "name": "stdout",
          "text": [
            "5\n",
            "it is an odd no\n"
          ]
        }
      ],
      "source": [
        "a=int(input())\n",
        "if a%2==0:\n",
        "  print(\"it is a even no\")\n",
        "else:\n",
        "  print(\"it is an odd no\")"
      ]
    },
    {
      "cell_type": "code",
      "source": [
        "a=20.0\n",
        "print(type(a))\n",
        "print(int(a))"
      ],
      "metadata": {
        "colab": {
          "base_uri": "https://localhost:8080/"
        },
        "id": "C0DI60e1IUWa",
        "outputId": "52e326c4-26dd-42a1-fb91-801ddc1047fe"
      },
      "execution_count": null,
      "outputs": [
        {
          "output_type": "stream",
          "name": "stdout",
          "text": [
            "<class 'float'>\n",
            "20\n"
          ]
        }
      ]
    },
    {
      "cell_type": "code",
      "source": [
        "  year=int(input())\n",
        "  if year%4==0 and year%100!=0 or year%400==0:\n",
        "    print(True)\n",
        "  else:\n",
        "    print(False)"
      ],
      "metadata": {
        "colab": {
          "base_uri": "https://localhost:8080/"
        },
        "id": "hE4LyY-xJBjX",
        "outputId": "349f1735-7042-45cc-8d0e-c9207e98a36f"
      },
      "execution_count": null,
      "outputs": [
        {
          "output_type": "stream",
          "name": "stdout",
          "text": [
            "1900\n",
            "False\n"
          ]
        }
      ]
    },
    {
      "cell_type": "code",
      "source": [
        "for i in range(1,11):\n",
        "  print(i)"
      ],
      "metadata": {
        "colab": {
          "base_uri": "https://localhost:8080/"
        },
        "id": "ZzGmT3cCJ_JT",
        "outputId": "f45d2106-364c-4b3e-d0cc-3bec9d75a9aa"
      },
      "execution_count": null,
      "outputs": [
        {
          "output_type": "stream",
          "name": "stdout",
          "text": [
            "1\n",
            "2\n",
            "3\n",
            "4\n",
            "5\n",
            "6\n",
            "7\n",
            "8\n",
            "9\n",
            "10\n"
          ]
        }
      ]
    },
    {
      "cell_type": "markdown",
      "source": [
        "# Assignment-1"
      ],
      "metadata": {
        "id": "MrUQSjGSNqXY"
      }
    },
    {
      "cell_type": "markdown",
      "source": [
        "WAP in Python to input three numbers and find the greatest number among them."
      ],
      "metadata": {
        "id": "KzNXmeY2NtG7"
      }
    },
    {
      "cell_type": "code",
      "source": [
        "a=int(input())\n",
        "b=int(input())\n",
        "c=int(input())"
      ],
      "metadata": {
        "colab": {
          "base_uri": "https://localhost:8080/"
        },
        "id": "WoW2mp9cOFP8",
        "outputId": "c9ca2ac3-1473-4de3-a0bc-a69dbe9fcdc5"
      },
      "execution_count": null,
      "outputs": [
        {
          "name": "stdout",
          "output_type": "stream",
          "text": [
            "5\n",
            "6\n",
            "2\n"
          ]
        }
      ]
    },
    {
      "cell_type": "code",
      "source": [
        "\n",
        "if a>b and a>c:\n",
        "  print(a)\n",
        "elif b>a and b>c:\n",
        "  print(b)\n",
        "else:\n",
        "  print(c)"
      ],
      "metadata": {
        "colab": {
          "base_uri": "https://localhost:8080/"
        },
        "id": "6036rkO0OiN2",
        "outputId": "b5c9231d-5faa-4182-af0f-4366f2921787"
      },
      "execution_count": null,
      "outputs": [
        {
          "output_type": "stream",
          "name": "stdout",
          "text": [
            "6\n"
          ]
        }
      ]
    },
    {
      "cell_type": "markdown",
      "source": [
        "Q2.WAP in Python to input three numbers and find the 2nd greatest number among them."
      ],
      "metadata": {
        "id": "tvYjggS8OsOs"
      }
    },
    {
      "cell_type": "code",
      "source": [
        "if a>b and b>c:\n",
        "  print(b)\n",
        "elif b>a and a>c:\n",
        "  print(a)\n",
        "else:\n",
        "  print(c)"
      ],
      "metadata": {
        "colab": {
          "base_uri": "https://localhost:8080/"
        },
        "id": "FA6ngQW9OtCP",
        "outputId": "4fbaf126-8994-4057-d115-30d5e7666e5e"
      },
      "execution_count": null,
      "outputs": [
        {
          "output_type": "stream",
          "name": "stdout",
          "text": [
            "5\n"
          ]
        }
      ]
    },
    {
      "cell_type": "markdown",
      "source": [
        "WAP in Python to input one number and check if the inputted number is prime or not."
      ],
      "metadata": {
        "id": "E6ARf9jrPClG"
      }
    },
    {
      "cell_type": "code",
      "source": [
        "num = 1101\n",
        "if num > 1:\n",
        "    for i in range(2, int(num/2)+1):\n",
        "        if (num % i) == 0:\n",
        "            print(num, \"is not a prime number\")\n",
        "            break\n",
        "    else:\n",
        "        print(num, \"is a prime number\")\n",
        "else:\n",
        "    print(num, \"is not a prime number\")\n"
      ],
      "metadata": {
        "colab": {
          "base_uri": "https://localhost:8080/"
        },
        "id": "7zLRM8XXPETa",
        "outputId": "19b71aff-be4a-446a-836f-571d62e9a7e3"
      },
      "execution_count": null,
      "outputs": [
        {
          "output_type": "stream",
          "name": "stdout",
          "text": [
            "1101 is not a prime number\n"
          ]
        }
      ]
    },
    {
      "cell_type": "markdown",
      "source": [
        "WAP in Python to input any two integers, and provide a menu to the user to select any of the options as add, subtract, multiply, divide and display the result accordingly."
      ],
      "metadata": {
        "id": "6zXuwKktQhPO"
      }
    },
    {
      "cell_type": "code",
      "source": [
        "def add(a, b):  \n",
        "    sum = a + b  \n",
        "    print(a, \"+\", b, \"=\", sum)  \n",
        "def subtract(a, b):  \n",
        "    difference = a - b  \n",
        "    print(a, \"-\", b, \"=\", difference)  \n",
        "def multiply(a, b):  \n",
        "    product = a * b  \n",
        "    print(a, \"x\", b, \"=\", product)  \n",
        "def divide(a, b):  \n",
        "    division = a / b  \n",
        "    print(a, \"/\", b, \"=\", division)  \n",
        "print(\"CALCULATOR\")   \n",
        "while True:  \n",
        "    print(\"\\nMENU\")  \n",
        "    print(\"1. Sum of two Numbers\")  \n",
        "    print(\"2. Difference between two Numbers\")  \n",
        "    print(\"3. Product of two Numbers\")  \n",
        "    print(\"4. Division of two Numbers\")  \n",
        "    print(\"5. Exit\")  \n",
        "    choice = int(input(\"\\nEnter the Choice: \"))  \n",
        "    if choice == 1:  \n",
        "        print( \"\\nADDITION\\n\")  \n",
        "        a = int( input(\"First Number: \"))  \n",
        "        b = int( input(\"Second Number: \"))  \n",
        "        add(a, b)  \n",
        "  \n",
        "    elif choice == 2:  \n",
        "        print( \"\\nSUBTRACTION\\n\")  \n",
        "        a = int( input(\"First Number: \"))  \n",
        "        b = int( input(\"Second Number: \"))  \n",
        "        subtract(a, b)  \n",
        "  \n",
        "    elif choice == 3:  \n",
        "        print( \"\\nMULTIPLICATION\\n\")  \n",
        "        a = int( input(\"First Number: \"))  \n",
        "        b = int( input(\"Second Number: \"))  \n",
        "        multiply(a, b)  \n",
        "  \n",
        "    elif choice == 4:  \n",
        "        print( \"\\nDIVISION\\n\")  \n",
        "        a = int( input(\"First Number: \"))  \n",
        "        b = int( input(\"Second Number: \"))  \n",
        "        divide(a, b)  \n",
        "  \n",
        "    elif choice == 5:  \n",
        "        break  \n",
        "      \n",
        "    else:  \n",
        "        print( \"Please Provide a valid Input!\")"
      ],
      "metadata": {
        "colab": {
          "base_uri": "https://localhost:8080/"
        },
        "id": "UJHxbSgsQuNj",
        "outputId": "b0b2ae29-a36f-45ba-a4db-7ed1a63b422b"
      },
      "execution_count": null,
      "outputs": [
        {
          "name": "stdout",
          "output_type": "stream",
          "text": [
            "CALCULATOR\n",
            "\n",
            "MENU\n",
            "1. Sum of two Numbers\n",
            "2. Difference between two Numbers\n",
            "3. Product of two Numbers\n",
            "4. Division of two Numbers\n",
            "5. Exit\n",
            "\n",
            "Enter the Choice: 2\n",
            "\n",
            "SUBTRACTION\n",
            "\n",
            "First Number: 6\n",
            "Second Number: 7\n",
            "6 - 7 = -1\n",
            "\n",
            "MENU\n",
            "1. Sum of two Numbers\n",
            "2. Difference between two Numbers\n",
            "3. Product of two Numbers\n",
            "4. Division of two Numbers\n",
            "5. Exit\n",
            "\n",
            "Enter the Choice: 5\n"
          ]
        }
      ]
    },
    {
      "cell_type": "markdown",
      "source": [
        "WAP in Python to input a range(both lower and upper include) and find out the average of odd and even numbers, and display the number whose sum is more."
      ],
      "metadata": {
        "id": "TzmrRqqRRRWu"
      }
    },
    {
      "cell_type": "code",
      "source": [
        "numbers = [1, 2, 3, 4, 5, 6, 7, 8, 9,10]\n",
        "count_odd = 0\n",
        "count_even = 0\n",
        "for x in range(len(numbers)):\n",
        "        if not x % 2:\n",
        "    \t     count_even+=numbers[x]\n",
        "        else:\n",
        "    \t     count_odd+=numbers[x]\n",
        "if count_even>count_odd:\n",
        "  print('even')\n",
        "print('odd')"
      ],
      "metadata": {
        "colab": {
          "base_uri": "https://localhost:8080/"
        },
        "id": "Ai5ZZRSQRUzo",
        "outputId": "b8421094-e833-40d6-a4a6-84832f6507f3"
      },
      "execution_count": null,
      "outputs": [
        {
          "output_type": "stream",
          "name": "stdout",
          "text": [
            "odd\n"
          ]
        }
      ]
    },
    {
      "cell_type": "markdown",
      "source": [
        "WAP in Python to input a year and print leap year after the inputted year."
      ],
      "metadata": {
        "id": "eeKJMx8DSji0"
      }
    },
    {
      "cell_type": "code",
      "source": [
        "inp_year = int(input(\"Give year:\"))\n",
        "year = inp_year\n",
        "leap = year % 4 == 0 and year %100 != 0 or year % 100 == 0 and year % 400 ==0\n",
        "\n",
        "if leap:\n",
        "   print(f\"The next leap year from {year} is {year + 4}\")\n",
        "\n",
        "while not leap:\n",
        "    year += 1\n",
        "    leap = year % 4 == 0 and year %100 != 0 or year % 100 == 0 and year % 400 ==0\n",
        "print(f\"The next leap year from {inp_year} is {year}\")\n"
      ],
      "metadata": {
        "colab": {
          "base_uri": "https://localhost:8080/"
        },
        "id": "D3hGztniSnE2",
        "outputId": "81bb6139-744e-4d17-b906-10e7a3d509a7"
      },
      "execution_count": null,
      "outputs": [
        {
          "output_type": "stream",
          "name": "stdout",
          "text": [
            "Give year:2002\n",
            "The next leap year from 2002 is 2004\n"
          ]
        }
      ]
    },
    {
      "cell_type": "markdown",
      "source": [
        "WAP in Python to input one number of more than 4 digits, if not then it again allows the user to re-enter the number till its not more than 4 digit. Then find out the sum of the digits till not a single digit."
      ],
      "metadata": {
        "id": "JGWbYvnYTioO"
      }
    },
    {
      "cell_type": "code",
      "source": [
        "def find_sum_of_digits(num):\n",
        "    if num < 10:\n",
        "        return num\n",
        "    else:\n",
        "        sum = 0\n",
        "        while num > 0:\n",
        "            sum += num % 10\n",
        "            num //= 10\n",
        "        return find_sum_of_digits(sum)\n",
        "\n",
        "while True:\n",
        "    num = int(input(\"Enter a number with more than four digits: \"))\n",
        "    if num >= 1000:\n",
        "        break\n",
        "    else:\n",
        "        print(\"The number must have more than four digits.\")\n",
        "\n",
        "sum_of_digits = find_sum_of_digits(num)\n",
        "print(\"The sum of the digits is:\", sum_of_digits)\n"
      ],
      "metadata": {
        "colab": {
          "base_uri": "https://localhost:8080/"
        },
        "id": "FBbbs7Npi4dl",
        "outputId": "2a0c1447-e647-49bd-8442-af119d6da9b2"
      },
      "execution_count": 60,
      "outputs": [
        {
          "output_type": "stream",
          "name": "stdout",
          "text": [
            "Enter a number with more than four digits: 4\n",
            "The number must have more than four digits.\n",
            "Enter a number with more than four digits: 100567\n",
            "The sum of the digits is: 1\n"
          ]
        }
      ]
    },
    {
      "cell_type": "markdown",
      "source": [
        "WAP in Python to print the given pattern by using any of the loop\n",
        "\n",
        "1\n",
        "\n",
        "12\n",
        "\n",
        "123\n",
        "\n",
        "1234\n",
        "\n",
        "12345"
      ],
      "metadata": {
        "id": "6T81DSpSVSvn"
      }
    },
    {
      "cell_type": "code",
      "source": [
        "def pattern(n):\n",
        "     for i in range(n):\n",
        "         for j in range(1, i + 1):\n",
        "             print(j, end= \" \")\n",
        "         print(\"\\r\")\n",
        "pattern(6)"
      ],
      "metadata": {
        "colab": {
          "base_uri": "https://localhost:8080/"
        },
        "id": "mJbHFSBwVVnF",
        "outputId": "2cbb2df8-5c03-4c5f-bb27-1f1324bc4214"
      },
      "execution_count": null,
      "outputs": [
        {
          "output_type": "stream",
          "name": "stdout",
          "text": [
            "\r\n",
            "1 \r\n",
            "1 2 \r\n",
            "1 2 3 \r\n",
            "1 2 3 4 \r\n",
            "1 2 3 4 5 \r\n"
          ]
        }
      ]
    },
    {
      "cell_type": "markdown",
      "source": [
        "WAP in Python to print the given pattern by using any of the loop\n",
        "\n",
        "\t  \t 1\n",
        "\n",
        "          121\n",
        "\n",
        "         12321\n",
        "\n",
        "        1234321"
      ],
      "metadata": {
        "id": "ik8cHSIEWtRX"
      }
    },
    {
      "cell_type": "code",
      "source": [
        "row = int(input('Enter how many lines? '))\n",
        "for i in range(1,row+1):\n",
        "    for j in range(1, row+1-i):\n",
        "        print(' ', end='')\n",
        "    for j in range(1,i+1):\n",
        "        print(j, end='')\n",
        "    for j in range(i-1,0,-1):\n",
        "        print(j, end='')\n",
        "    print()"
      ],
      "metadata": {
        "colab": {
          "base_uri": "https://localhost:8080/"
        },
        "id": "mA3KTJN_W4T7",
        "outputId": "56816b1f-1c6b-47dd-f100-e8951e484ec0"
      },
      "execution_count": null,
      "outputs": [
        {
          "output_type": "stream",
          "name": "stdout",
          "text": [
            "Enter how many lines? 4\n",
            "   1\n",
            "  121\n",
            " 12321\n",
            "1234321\n"
          ]
        }
      ]
    },
    {
      "cell_type": "markdown",
      "source": [
        "WAP in Python to print the given pattern by using any of the loop\n",
        "\n",
        "\t\t        54321\n",
        "\n",
        "                5432\n",
        "\n",
        "                543\n",
        "\n",
        "                54\n",
        "\n",
        "                5"
      ],
      "metadata": {
        "id": "JfG02csbYUgy"
      }
    },
    {
      "cell_type": "code",
      "source": [
        "for i in range(1, 6):\n",
        "    for j in range(5, i-1,-1):\n",
        "        print(j, end=\"\")\n",
        "    print()"
      ],
      "metadata": {
        "colab": {
          "base_uri": "https://localhost:8080/"
        },
        "id": "6X0PHuOKYkRc",
        "outputId": "6251fae9-d435-4fbb-8d5a-f494da9eb91d"
      },
      "execution_count": null,
      "outputs": [
        {
          "output_type": "stream",
          "name": "stdout",
          "text": [
            "54321\n",
            "5432\n",
            "543\n",
            "54\n",
            "5\n"
          ]
        }
      ]
    }
  ]
}