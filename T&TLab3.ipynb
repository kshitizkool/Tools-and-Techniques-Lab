{
  "nbformat": 4,
  "nbformat_minor": 0,
  "metadata": {
    "colab": {
      "provenance": [],
      "authorship_tag": "ABX9TyM0652UbJ6T3DDDddIW8s5Y",
      "include_colab_link": true
    },
    "kernelspec": {
      "name": "python3",
      "display_name": "Python 3"
    },
    "language_info": {
      "name": "python"
    }
  },
  "cells": [
    {
      "cell_type": "markdown",
      "metadata": {
        "id": "view-in-github",
        "colab_type": "text"
      },
      "source": [
        "<a href=\"https://colab.research.google.com/github/kshitizkool/Tools-and-Techniques-Lab/blob/main/T%26TLab3.ipynb\" target=\"_parent\"><img src=\"https://colab.research.google.com/assets/colab-badge.svg\" alt=\"Open In Colab\"/></a>"
      ]
    },
    {
      "cell_type": "code",
      "execution_count": 1,
      "metadata": {
        "id": "nE9aEue2VpMg"
      },
      "outputs": [],
      "source": [
        "import math"
      ]
    },
    {
      "cell_type": "code",
      "source": [
        "abs(-10)"
      ],
      "metadata": {
        "colab": {
          "base_uri": "https://localhost:8080/"
        },
        "id": "YPVgqNLkVrgc",
        "outputId": "89c65785-036d-4b03-a7b1-2caeec33a085"
      },
      "execution_count": 2,
      "outputs": [
        {
          "output_type": "execute_result",
          "data": {
            "text/plain": [
              "10"
            ]
          },
          "metadata": {},
          "execution_count": 2
        }
      ]
    },
    {
      "cell_type": "code",
      "source": [
        "abs(-10.2)"
      ],
      "metadata": {
        "colab": {
          "base_uri": "https://localhost:8080/"
        },
        "id": "BPkLDajPVujG",
        "outputId": "b025ab9d-d4f2-4be4-d2fd-3548d79cc549"
      },
      "execution_count": 3,
      "outputs": [
        {
          "output_type": "execute_result",
          "data": {
            "text/plain": [
              "10.2"
            ]
          },
          "metadata": {},
          "execution_count": 3
        }
      ]
    },
    {
      "cell_type": "code",
      "source": [
        "math.ceil(-10.2)"
      ],
      "metadata": {
        "colab": {
          "base_uri": "https://localhost:8080/"
        },
        "id": "fIcqIbqyVwhG",
        "outputId": "ecd1f291-3437-4a5d-e40c-e53c9c1ccb41"
      },
      "execution_count": 5,
      "outputs": [
        {
          "output_type": "execute_result",
          "data": {
            "text/plain": [
              "-10"
            ]
          },
          "metadata": {},
          "execution_count": 5
        }
      ]
    },
    {
      "cell_type": "code",
      "source": [
        "math.ceil(-8.9)"
      ],
      "metadata": {
        "colab": {
          "base_uri": "https://localhost:8080/"
        },
        "id": "lJemXJGmVymV",
        "outputId": "6096c344-4dd0-4364-e6c1-7628927473a6"
      },
      "execution_count": 6,
      "outputs": [
        {
          "output_type": "execute_result",
          "data": {
            "text/plain": [
              "-8"
            ]
          },
          "metadata": {},
          "execution_count": 6
        }
      ]
    },
    {
      "cell_type": "code",
      "source": [
        "math.log(10)"
      ],
      "metadata": {
        "colab": {
          "base_uri": "https://localhost:8080/"
        },
        "id": "rO8BkYwTV6No",
        "outputId": "d50fc6cb-856c-46d5-a899-3351680f8fe3"
      },
      "execution_count": 7,
      "outputs": [
        {
          "output_type": "execute_result",
          "data": {
            "text/plain": [
              "2.302585092994046"
            ]
          },
          "metadata": {},
          "execution_count": 7
        }
      ]
    },
    {
      "cell_type": "code",
      "source": [
        "math.log10(10)"
      ],
      "metadata": {
        "colab": {
          "base_uri": "https://localhost:8080/"
        },
        "id": "uMdA2s2bV76h",
        "outputId": "e9322bc4-9250-47ff-94ba-047d65bb9f54"
      },
      "execution_count": 8,
      "outputs": [
        {
          "output_type": "execute_result",
          "data": {
            "text/plain": [
              "1.0"
            ]
          },
          "metadata": {},
          "execution_count": 8
        }
      ]
    },
    {
      "cell_type": "code",
      "source": [
        "math.log(1024)"
      ],
      "metadata": {
        "colab": {
          "base_uri": "https://localhost:8080/"
        },
        "id": "lFB21-FDWAee",
        "outputId": "af8d964c-d275-4b68-a000-0fdd5bb654c5"
      },
      "execution_count": 9,
      "outputs": [
        {
          "output_type": "execute_result",
          "data": {
            "text/plain": [
              "6.931471805599453"
            ]
          },
          "metadata": {},
          "execution_count": 9
        }
      ]
    },
    {
      "cell_type": "code",
      "source": [
        "math.tan(math.radians(45))"
      ],
      "metadata": {
        "colab": {
          "base_uri": "https://localhost:8080/"
        },
        "id": "pYcZLpP9WCcY",
        "outputId": "5351c14e-df0b-4a8f-e915-e34c521a7ef9"
      },
      "execution_count": 12,
      "outputs": [
        {
          "output_type": "execute_result",
          "data": {
            "text/plain": [
              "0.9999999999999999"
            ]
          },
          "metadata": {},
          "execution_count": 12
        }
      ]
    },
    {
      "cell_type": "code",
      "source": [
        "math.tan(math.radians(90))"
      ],
      "metadata": {
        "colab": {
          "base_uri": "https://localhost:8080/"
        },
        "id": "KBFWE-VdWJ5g",
        "outputId": "3d24fab9-67c8-4b1e-80d1-7ea830319b34"
      },
      "execution_count": 13,
      "outputs": [
        {
          "output_type": "execute_result",
          "data": {
            "text/plain": [
              "1.633123935319537e+16"
            ]
          },
          "metadata": {},
          "execution_count": 13
        }
      ]
    },
    {
      "cell_type": "code",
      "source": [
        "math.modf(20.7)"
      ],
      "metadata": {
        "colab": {
          "base_uri": "https://localhost:8080/"
        },
        "id": "SEhzHHEPWOP1",
        "outputId": "8b4454e7-4765-4190-f3cc-3f2e3ca06130"
      },
      "execution_count": 14,
      "outputs": [
        {
          "output_type": "execute_result",
          "data": {
            "text/plain": [
              "(0.6999999999999993, 20.0)"
            ]
          },
          "metadata": {},
          "execution_count": 14
        }
      ]
    },
    {
      "cell_type": "code",
      "source": [
        "type([])\n",
        "lst=[1,2,3,4,5]\n",
        "print(lst)\n",
        "for i in lst:\n",
        "  print(lst)"
      ],
      "metadata": {
        "colab": {
          "base_uri": "https://localhost:8080/"
        },
        "id": "0TSf-TZDWVHj",
        "outputId": "e6cb5291-5942-4715-efc4-0aec52f8a24f"
      },
      "execution_count": 15,
      "outputs": [
        {
          "output_type": "stream",
          "name": "stdout",
          "text": [
            "[1, 2, 3, 4, 5]\n",
            "[1, 2, 3, 4, 5]\n",
            "[1, 2, 3, 4, 5]\n",
            "[1, 2, 3, 4, 5]\n",
            "[1, 2, 3, 4, 5]\n",
            "[1, 2, 3, 4, 5]\n"
          ]
        }
      ]
    },
    {
      "cell_type": "code",
      "source": [
        "type([])\n",
        "lst=[1,2,3,4,5]\n",
        "print(lst)\n",
        "for i in lst:\n",
        "  print(lst)\n",
        "print(lst[2])\n",
        "\n"
      ],
      "metadata": {
        "colab": {
          "base_uri": "https://localhost:8080/"
        },
        "id": "dfOuW0V6Wg99",
        "outputId": "634a287e-b812-430d-daf4-1a491a4efb71"
      },
      "execution_count": 23,
      "outputs": [
        {
          "output_type": "stream",
          "name": "stdout",
          "text": [
            "[1, 2, 3, 4, 5]\n",
            "[1, 2, 3, 4, 5]\n",
            "[1, 2, 3, 4, 5]\n",
            "[1, 2, 3, 4, 5]\n",
            "[1, 2, 3, 4, 5]\n",
            "[1, 2, 3, 4, 5]\n",
            "3\n",
            "['Ram', 2, 3, 4, 5]\n",
            "Ram\n",
            "2\n",
            "3\n",
            "4\n",
            "5\n"
          ]
        },
        {
          "output_type": "execute_result",
          "data": {
            "text/plain": [
              "5"
            ]
          },
          "metadata": {},
          "execution_count": 23
        }
      ]
    },
    {
      "cell_type": "code",
      "source": [
        "len(lst)"
      ],
      "metadata": {
        "colab": {
          "base_uri": "https://localhost:8080/"
        },
        "id": "0jqhExskWntW",
        "outputId": "e969db7a-a6d0-49a6-90d9-8da6610af8da"
      },
      "execution_count": 24,
      "outputs": [
        {
          "output_type": "execute_result",
          "data": {
            "text/plain": [
              "5"
            ]
          },
          "metadata": {},
          "execution_count": 24
        }
      ]
    },
    {
      "cell_type": "code",
      "source": [
        "lst[0]='Ram'\n",
        "print(lst)\n",
        "for i in lst:\n",
        "  print(i)"
      ],
      "metadata": {
        "colab": {
          "base_uri": "https://localhost:8080/"
        },
        "id": "_Alplgb2XIuo",
        "outputId": "d8d324ee-3328-47a5-80a1-399a6a4b1ff7"
      },
      "execution_count": 25,
      "outputs": [
        {
          "output_type": "stream",
          "name": "stdout",
          "text": [
            "['Ram', 2, 3, 4, 5]\n",
            "Ram\n",
            "2\n",
            "3\n",
            "4\n",
            "5\n"
          ]
        }
      ]
    },
    {
      "cell_type": "code",
      "source": [
        "max(10,9.7,4,100)"
      ],
      "metadata": {
        "colab": {
          "base_uri": "https://localhost:8080/"
        },
        "id": "2bGRNZZHXONK",
        "outputId": "eb295b4f-7f28-4546-bdd2-b4bfdf043d2c"
      },
      "execution_count": 26,
      "outputs": [
        {
          "output_type": "execute_result",
          "data": {
            "text/plain": [
              "100"
            ]
          },
          "metadata": {},
          "execution_count": 26
        }
      ]
    },
    {
      "cell_type": "code",
      "source": [
        "math.pow(2,10)"
      ],
      "metadata": {
        "colab": {
          "base_uri": "https://localhost:8080/"
        },
        "id": "-gjNSnUKXg24",
        "outputId": "62560833-9104-4c81-c546-869c02233c38"
      },
      "execution_count": 27,
      "outputs": [
        {
          "output_type": "execute_result",
          "data": {
            "text/plain": [
              "1024.0"
            ]
          },
          "metadata": {},
          "execution_count": 27
        }
      ]
    },
    {
      "cell_type": "code",
      "source": [
        "math.pow(2,-10)"
      ],
      "metadata": {
        "colab": {
          "base_uri": "https://localhost:8080/"
        },
        "id": "4IipIx2UXjgs",
        "outputId": "c0cf1fe7-d6a5-4462-8af0-c9b2705d07c1"
      },
      "execution_count": 28,
      "outputs": [
        {
          "output_type": "execute_result",
          "data": {
            "text/plain": [
              "0.0009765625"
            ]
          },
          "metadata": {},
          "execution_count": 28
        }
      ]
    },
    {
      "cell_type": "code",
      "source": [
        "math.sqrt(25)"
      ],
      "metadata": {
        "colab": {
          "base_uri": "https://localhost:8080/"
        },
        "id": "X8Oau3TlXlf2",
        "outputId": "61b3c2a3-5c07-4ba8-f464-01baded943dc"
      },
      "execution_count": 29,
      "outputs": [
        {
          "output_type": "execute_result",
          "data": {
            "text/plain": [
              "5.0"
            ]
          },
          "metadata": {},
          "execution_count": 29
        }
      ]
    },
    {
      "cell_type": "code",
      "source": [
        "math.sqrt(25.0)"
      ],
      "metadata": {
        "colab": {
          "base_uri": "https://localhost:8080/"
        },
        "id": "FfImDFUtXotn",
        "outputId": "915d4d12-bf8e-45ac-c9d1-e15da532573d"
      },
      "execution_count": 30,
      "outputs": [
        {
          "output_type": "execute_result",
          "data": {
            "text/plain": [
              "5.0"
            ]
          },
          "metadata": {},
          "execution_count": 30
        }
      ]
    },
    {
      "cell_type": "code",
      "source": [
        "math.sin(90)"
      ],
      "metadata": {
        "colab": {
          "base_uri": "https://localhost:8080/"
        },
        "id": "uJbPZWJTXqy3",
        "outputId": "c5ead5fb-3139-44f6-ea63-d1549cf6bfbb"
      },
      "execution_count": 31,
      "outputs": [
        {
          "output_type": "execute_result",
          "data": {
            "text/plain": [
              "0.8939966636005579"
            ]
          },
          "metadata": {},
          "execution_count": 31
        }
      ]
    },
    {
      "cell_type": "code",
      "source": [
        "math.radians(90)"
      ],
      "metadata": {
        "colab": {
          "base_uri": "https://localhost:8080/"
        },
        "id": "F2DhwZA0XtUC",
        "outputId": "be41df64-66d9-473b-dcac-d182ee017867"
      },
      "execution_count": 32,
      "outputs": [
        {
          "output_type": "execute_result",
          "data": {
            "text/plain": [
              "1.5707963267948966"
            ]
          },
          "metadata": {},
          "execution_count": 32
        }
      ]
    },
    {
      "cell_type": "code",
      "source": [
        "l=[1,3,2,5,7,9,1,1,3,2,5,5,7]"
      ],
      "metadata": {
        "id": "tYC8pCj4Xu58"
      },
      "execution_count": 33,
      "outputs": []
    },
    {
      "cell_type": "code",
      "source": [
        "l.count(1)"
      ],
      "metadata": {
        "colab": {
          "base_uri": "https://localhost:8080/"
        },
        "id": "4cRJnMu5X8ET",
        "outputId": "d528044e-32e9-4a13-9c51-f2a98d44efa7"
      },
      "execution_count": 36,
      "outputs": [
        {
          "output_type": "execute_result",
          "data": {
            "text/plain": [
              "3"
            ]
          },
          "metadata": {},
          "execution_count": 36
        }
      ]
    },
    {
      "cell_type": "code",
      "source": [
        "len(l)"
      ],
      "metadata": {
        "colab": {
          "base_uri": "https://localhost:8080/"
        },
        "id": "t6bqK1mFX9P3",
        "outputId": "8adcbfd0-83a5-4f16-da0a-612ddffe615f"
      },
      "execution_count": 37,
      "outputs": [
        {
          "output_type": "execute_result",
          "data": {
            "text/plain": [
              "13"
            ]
          },
          "metadata": {},
          "execution_count": 37
        }
      ]
    },
    {
      "cell_type": "code",
      "source": [
        "l.append(12)"
      ],
      "metadata": {
        "id": "-2vTIWxKYEZE"
      },
      "execution_count": 38,
      "outputs": []
    },
    {
      "cell_type": "code",
      "source": [
        "len(l)"
      ],
      "metadata": {
        "colab": {
          "base_uri": "https://localhost:8080/"
        },
        "id": "h3VPADXjYFzv",
        "outputId": "5c9fb2c7-252d-4dc3-ba86-a9fa1a8e5857"
      },
      "execution_count": 39,
      "outputs": [
        {
          "output_type": "execute_result",
          "data": {
            "text/plain": [
              "14"
            ]
          },
          "metadata": {},
          "execution_count": 39
        }
      ]
    },
    {
      "cell_type": "code",
      "source": [
        "print(l)"
      ],
      "metadata": {
        "colab": {
          "base_uri": "https://localhost:8080/"
        },
        "id": "L95TsxW_YHFO",
        "outputId": "e1cc7bb4-d02b-4ba6-8606-171acdafb0f1"
      },
      "execution_count": 42,
      "outputs": [
        {
          "output_type": "stream",
          "name": "stdout",
          "text": [
            "[1, 3, 2, 5, 7, 9, 1, 1, 3, 2, 5, 5, 7, 12, 'shyam']\n"
          ]
        }
      ]
    },
    {
      "cell_type": "code",
      "source": [
        "l.append('shyam')"
      ],
      "metadata": {
        "id": "Z0EtfSy6YKPZ"
      },
      "execution_count": 41,
      "outputs": []
    },
    {
      "cell_type": "code",
      "source": [
        "\n",
        "print(l)"
      ],
      "metadata": {
        "colab": {
          "base_uri": "https://localhost:8080/"
        },
        "id": "V5WndJ1EYMkM",
        "outputId": "003e4e14-daf0-4bd3-90c0-a9458408e793"
      },
      "execution_count": 43,
      "outputs": [
        {
          "output_type": "stream",
          "name": "stdout",
          "text": [
            "[1, 3, 2, 5, 7, 9, 1, 1, 3, 2, 5, 5, 7, 12, 'shyam']\n"
          ]
        }
      ]
    },
    {
      "cell_type": "code",
      "source": [
        "len(l)"
      ],
      "metadata": {
        "colab": {
          "base_uri": "https://localhost:8080/"
        },
        "id": "PIbl-ZFaYQNr",
        "outputId": "f21d3afc-f28b-46f6-c165-1a645b46eeb8"
      },
      "execution_count": 44,
      "outputs": [
        {
          "output_type": "execute_result",
          "data": {
            "text/plain": [
              "15"
            ]
          },
          "metadata": {},
          "execution_count": 44
        }
      ]
    },
    {
      "cell_type": "code",
      "source": [
        "l.pop(1)"
      ],
      "metadata": {
        "colab": {
          "base_uri": "https://localhost:8080/"
        },
        "id": "pKblZW3FYW6F",
        "outputId": "4a97f9ea-eb90-45f2-aeae-a6a7f7878390"
      },
      "execution_count": 47,
      "outputs": [
        {
          "output_type": "execute_result",
          "data": {
            "text/plain": [
              "3"
            ]
          },
          "metadata": {},
          "execution_count": 47
        }
      ]
    },
    {
      "cell_type": "code",
      "source": [
        "len(l)"
      ],
      "metadata": {
        "colab": {
          "base_uri": "https://localhost:8080/"
        },
        "id": "w8rZsaGcYZcQ",
        "outputId": "f3a92ba8-ec2c-4343-b60b-3c6aba512d4e"
      },
      "execution_count": 48,
      "outputs": [
        {
          "output_type": "execute_result",
          "data": {
            "text/plain": [
              "14"
            ]
          },
          "metadata": {},
          "execution_count": 48
        }
      ]
    },
    {
      "cell_type": "code",
      "source": [
        "l.append(1)"
      ],
      "metadata": {
        "id": "318PxAQOYfvj"
      },
      "execution_count": 50,
      "outputs": []
    },
    {
      "cell_type": "code",
      "source": [
        "l.append(7)"
      ],
      "metadata": {
        "id": "SBJKjZfOYiov"
      },
      "execution_count": 52,
      "outputs": []
    },
    {
      "cell_type": "code",
      "source": [
        "l.append(5)"
      ],
      "metadata": {
        "id": "1v7QJW_IYpES"
      },
      "execution_count": 53,
      "outputs": []
    },
    {
      "cell_type": "code",
      "source": [
        "len(l)"
      ],
      "metadata": {
        "colab": {
          "base_uri": "https://localhost:8080/"
        },
        "id": "4PJJith5Yu77",
        "outputId": "98a04ff0-994c-4937-ee8b-8bce1ad3763e"
      },
      "execution_count": 54,
      "outputs": [
        {
          "output_type": "execute_result",
          "data": {
            "text/plain": [
              "17"
            ]
          },
          "metadata": {},
          "execution_count": 54
        }
      ]
    },
    {
      "cell_type": "code",
      "source": [
        "l"
      ],
      "metadata": {
        "colab": {
          "base_uri": "https://localhost:8080/"
        },
        "id": "H3mbJpAAYwW7",
        "outputId": "02870a6b-e7c3-4b99-a24c-5c829936de56"
      },
      "execution_count": 55,
      "outputs": [
        {
          "output_type": "execute_result",
          "data": {
            "text/plain": [
              "[1, 2, 5, 7, 9, 1, 1, 3, 2, 5, 5, 7, 12, 'shyam', 1, 7, 5]"
            ]
          },
          "metadata": {},
          "execution_count": 55
        }
      ]
    },
    {
      "cell_type": "code",
      "source": [
        "l[6]"
      ],
      "metadata": {
        "colab": {
          "base_uri": "https://localhost:8080/"
        },
        "id": "j-IjSLlAYymn",
        "outputId": "a8493b55-3f0a-4112-ecaa-6f0f69f3890a"
      },
      "execution_count": 56,
      "outputs": [
        {
          "output_type": "execute_result",
          "data": {
            "text/plain": [
              "1"
            ]
          },
          "metadata": {},
          "execution_count": 56
        }
      ]
    },
    {
      "cell_type": "code",
      "source": [
        "l[-1]"
      ],
      "metadata": {
        "colab": {
          "base_uri": "https://localhost:8080/"
        },
        "id": "la9EXzkdY1uP",
        "outputId": "d54b55cf-784c-481f-d2e4-e96275dde500"
      },
      "execution_count": 57,
      "outputs": [
        {
          "output_type": "execute_result",
          "data": {
            "text/plain": [
              "5"
            ]
          },
          "metadata": {},
          "execution_count": 57
        }
      ]
    },
    {
      "cell_type": "code",
      "source": [
        "l[1:-1]"
      ],
      "metadata": {
        "colab": {
          "base_uri": "https://localhost:8080/"
        },
        "id": "mzCphNwTY256",
        "outputId": "a2beaf6e-c813-4250-897a-a59960d0ad73"
      },
      "execution_count": 58,
      "outputs": [
        {
          "output_type": "execute_result",
          "data": {
            "text/plain": [
              "[2, 5, 7, 9, 1, 1, 3, 2, 5, 5, 7, 12, 'shyam', 1, 7]"
            ]
          },
          "metadata": {},
          "execution_count": 58
        }
      ]
    },
    {
      "cell_type": "code",
      "source": [
        "l[2:-5]"
      ],
      "metadata": {
        "colab": {
          "base_uri": "https://localhost:8080/"
        },
        "id": "M2smp-ISY5e0",
        "outputId": "5425ca65-1a61-4a26-c129-1d03fa9770c2"
      },
      "execution_count": 59,
      "outputs": [
        {
          "output_type": "execute_result",
          "data": {
            "text/plain": [
              "[5, 7, 9, 1, 1, 3, 2, 5, 5, 7]"
            ]
          },
          "metadata": {},
          "execution_count": 59
        }
      ]
    },
    {
      "cell_type": "code",
      "source": [
        "l=l[2:-2]"
      ],
      "metadata": {
        "id": "9z3ggJUPY89D"
      },
      "execution_count": 60,
      "outputs": []
    },
    {
      "cell_type": "code",
      "source": [
        "l"
      ],
      "metadata": {
        "colab": {
          "base_uri": "https://localhost:8080/"
        },
        "id": "sGeUaXv5Zlee",
        "outputId": "d2a14fb3-ee9d-41ec-8c93-1f2123351605"
      },
      "execution_count": 61,
      "outputs": [
        {
          "output_type": "execute_result",
          "data": {
            "text/plain": [
              "[5, 7, 9, 1, 1, 3, 2, 5, 5, 7, 12, 'shyam', 1]"
            ]
          },
          "metadata": {},
          "execution_count": 61
        }
      ]
    },
    {
      "cell_type": "code",
      "source": [
        "len(l)"
      ],
      "metadata": {
        "colab": {
          "base_uri": "https://localhost:8080/"
        },
        "id": "d4I-WbNUZmyW",
        "outputId": "45918e92-918a-4dbe-d4cb-0640e8557b50"
      },
      "execution_count": 63,
      "outputs": [
        {
          "output_type": "execute_result",
          "data": {
            "text/plain": [
              "13"
            ]
          },
          "metadata": {},
          "execution_count": 63
        }
      ]
    },
    {
      "cell_type": "code",
      "source": [
        "l[:]"
      ],
      "metadata": {
        "colab": {
          "base_uri": "https://localhost:8080/"
        },
        "id": "O8RUPNfgZqES",
        "outputId": "ee909008-2c50-4959-c4a5-5233cd0b4c71"
      },
      "execution_count": 64,
      "outputs": [
        {
          "output_type": "execute_result",
          "data": {
            "text/plain": [
              "[5, 7, 9, 1, 1, 3, 2, 5, 5, 7, 12, 'shyam', 1]"
            ]
          },
          "metadata": {},
          "execution_count": 64
        }
      ]
    },
    {
      "cell_type": "code",
      "source": [
        "l.insert(1,\"kool\")"
      ],
      "metadata": {
        "id": "XE9QajP_Z5G7"
      },
      "execution_count": 65,
      "outputs": []
    },
    {
      "cell_type": "code",
      "source": [
        "l"
      ],
      "metadata": {
        "colab": {
          "base_uri": "https://localhost:8080/"
        },
        "id": "eZmvbq8oa_1R",
        "outputId": "974c030f-acf3-465a-f0e3-6a63a35651d9"
      },
      "execution_count": 66,
      "outputs": [
        {
          "output_type": "execute_result",
          "data": {
            "text/plain": [
              "[5, 'kool', 7, 9, 1, 1, 3, 2, 5, 5, 7, 12, 'shyam', 1]"
            ]
          },
          "metadata": {},
          "execution_count": 66
        }
      ]
    },
    {
      "cell_type": "code",
      "source": [
        "l.insert(3,'kshitiz')\n"
      ],
      "metadata": {
        "id": "qpVx0h9gbAy_"
      },
      "execution_count": 75,
      "outputs": []
    },
    {
      "cell_type": "code",
      "source": [
        "l.remove(\"kshitiz\")"
      ],
      "metadata": {
        "id": "3L_uvzEUbF1R"
      },
      "execution_count": 76,
      "outputs": []
    },
    {
      "cell_type": "code",
      "source": [
        "l"
      ],
      "metadata": {
        "colab": {
          "base_uri": "https://localhost:8080/"
        },
        "id": "k3zpRqcibKIw",
        "outputId": "9e4700d7-8043-44f9-c7c7-713d25250449"
      },
      "execution_count": 77,
      "outputs": [
        {
          "output_type": "execute_result",
          "data": {
            "text/plain": [
              "['kshitiz',\n",
              " 'kshitiz',\n",
              " 'kshitiz',\n",
              " 5,\n",
              " 'kool',\n",
              " 7,\n",
              " 9,\n",
              " 1,\n",
              " 1,\n",
              " 3,\n",
              " 2,\n",
              " 5,\n",
              " 5,\n",
              " 7,\n",
              " 12,\n",
              " 'shyam',\n",
              " 1]"
            ]
          },
          "metadata": {},
          "execution_count": 77
        }
      ]
    },
    {
      "cell_type": "code",
      "source": [
        "l.remove('kshitiz')"
      ],
      "metadata": {
        "id": "JTE4toR8bZ1z"
      },
      "execution_count": 78,
      "outputs": []
    },
    {
      "cell_type": "code",
      "source": [
        "l"
      ],
      "metadata": {
        "colab": {
          "base_uri": "https://localhost:8080/"
        },
        "id": "KzDGZsJDbfa7",
        "outputId": "61e0a931-2d9e-48f1-d538-b0596ec8bdc3"
      },
      "execution_count": 79,
      "outputs": [
        {
          "output_type": "execute_result",
          "data": {
            "text/plain": [
              "['kshitiz', 'kshitiz', 5, 'kool', 7, 9, 1, 1, 3, 2, 5, 5, 7, 12, 'shyam', 1]"
            ]
          },
          "metadata": {},
          "execution_count": 79
        }
      ]
    },
    {
      "cell_type": "code",
      "source": [
        "l.remove('kshitiz')"
      ],
      "metadata": {
        "id": "_jvPplgZbgHa"
      },
      "execution_count": 80,
      "outputs": []
    },
    {
      "cell_type": "code",
      "source": [
        "l"
      ],
      "metadata": {
        "colab": {
          "base_uri": "https://localhost:8080/"
        },
        "id": "7EXNWklzbjFC",
        "outputId": "b39f46db-04c1-4f24-d73f-cb22feb848cf"
      },
      "execution_count": 81,
      "outputs": [
        {
          "output_type": "execute_result",
          "data": {
            "text/plain": [
              "['kshitiz', 5, 'kool', 7, 9, 1, 1, 3, 2, 5, 5, 7, 12, 'shyam', 1]"
            ]
          },
          "metadata": {},
          "execution_count": 81
        }
      ]
    },
    {
      "cell_type": "code",
      "source": [],
      "metadata": {
        "colab": {
          "base_uri": "https://localhost:8080/",
          "height": 166
        },
        "id": "qS-v76QabjtA",
        "outputId": "98d7703f-aae0-48f8-be40-e1c3e6378d95"
      },
      "execution_count": 83,
      "outputs": [
        {
          "output_type": "error",
          "ename": "TypeError",
          "evalue": "ignored",
          "traceback": [
            "\u001b[0;31m---------------------------------------------------------------------------\u001b[0m",
            "\u001b[0;31mTypeError\u001b[0m                                 Traceback (most recent call last)",
            "\u001b[0;32m<ipython-input-83-0e0dbbed0a9f>\u001b[0m in \u001b[0;36m<module>\u001b[0;34m\u001b[0m\n\u001b[0;32m----> 1\u001b[0;31m \u001b[0msum\u001b[0m\u001b[0;34m(\u001b[0m\u001b[0mint\u001b[0m\u001b[0;34m(\u001b[0m\u001b[0ml\u001b[0m\u001b[0;34m)\u001b[0m\u001b[0;34m)\u001b[0m\u001b[0;34m\u001b[0m\u001b[0;34m\u001b[0m\u001b[0m\n\u001b[0m",
            "\u001b[0;31mTypeError\u001b[0m: int() argument must be a string, a bytes-like object or a number, not 'list'"
          ]
        }
      ]
    },
    {
      "cell_type": "code",
      "source": [
        "l1=[1,3,5,6,9,8]\n",
        "print(sum(l1))"
      ],
      "metadata": {
        "colab": {
          "base_uri": "https://localhost:8080/"
        },
        "id": "YRWWZZuLbz7v",
        "outputId": "73fbbd3c-9b03-41f3-f4e2-55027e03f251"
      },
      "execution_count": 86,
      "outputs": [
        {
          "output_type": "stream",
          "name": "stdout",
          "text": [
            "32\n"
          ]
        }
      ]
    },
    {
      "cell_type": "code",
      "source": [
        "print(sum(l1)+6)"
      ],
      "metadata": {
        "colab": {
          "base_uri": "https://localhost:8080/"
        },
        "id": "RvCa-LhicOw0",
        "outputId": "39fa800a-aaf4-4698-9f75-caf19660c26e"
      },
      "execution_count": 87,
      "outputs": [
        {
          "output_type": "stream",
          "name": "stdout",
          "text": [
            "38\n"
          ]
        }
      ]
    },
    {
      "cell_type": "code",
      "source": [
        "l1.pop()"
      ],
      "metadata": {
        "colab": {
          "base_uri": "https://localhost:8080/"
        },
        "id": "UNrjWB1lcS4c",
        "outputId": "7b75146e-fff2-4fdc-e747-6c8797abfe22"
      },
      "execution_count": 88,
      "outputs": [
        {
          "output_type": "execute_result",
          "data": {
            "text/plain": [
              "8"
            ]
          },
          "metadata": {},
          "execution_count": 88
        }
      ]
    },
    {
      "cell_type": "code",
      "source": [
        "l1"
      ],
      "metadata": {
        "colab": {
          "base_uri": "https://localhost:8080/"
        },
        "id": "oVrHc-12cWBY",
        "outputId": "635cc6b2-8ac5-406f-9a2a-cba99c96574d"
      },
      "execution_count": 90,
      "outputs": [
        {
          "output_type": "execute_result",
          "data": {
            "text/plain": [
              "[1, 3, 5, 6, 9]"
            ]
          },
          "metadata": {},
          "execution_count": 90
        }
      ]
    },
    {
      "cell_type": "code",
      "source": [
        "l1.pop(2)"
      ],
      "metadata": {
        "colab": {
          "base_uri": "https://localhost:8080/"
        },
        "id": "qfj2mbxqcYyy",
        "outputId": "10c3c547-82ad-416f-8d01-25f5d3049ac9"
      },
      "execution_count": 91,
      "outputs": [
        {
          "output_type": "execute_result",
          "data": {
            "text/plain": [
              "5"
            ]
          },
          "metadata": {},
          "execution_count": 91
        }
      ]
    },
    {
      "cell_type": "code",
      "source": [
        "l1"
      ],
      "metadata": {
        "colab": {
          "base_uri": "https://localhost:8080/"
        },
        "id": "a7Li2vtfcnAy",
        "outputId": "cb65eb1a-46e8-4a36-b12e-db9aa22b764d"
      },
      "execution_count": 92,
      "outputs": [
        {
          "output_type": "execute_result",
          "data": {
            "text/plain": [
              "[1, 3, 6, 9]"
            ]
          },
          "metadata": {},
          "execution_count": 92
        }
      ]
    },
    {
      "cell_type": "code",
      "source": [
        "s1={1,2,4,7,9}"
      ],
      "metadata": {
        "id": "jeMVo7aocnpr"
      },
      "execution_count": 94,
      "outputs": []
    },
    {
      "cell_type": "code",
      "source": [
        "type(s1)"
      ],
      "metadata": {
        "colab": {
          "base_uri": "https://localhost:8080/"
        },
        "id": "47Mk09k1cuVg",
        "outputId": "7df591bd-be5c-4811-b741-ac3310badd95"
      },
      "execution_count": 95,
      "outputs": [
        {
          "output_type": "execute_result",
          "data": {
            "text/plain": [
              "set"
            ]
          },
          "metadata": {},
          "execution_count": 95
        }
      ]
    },
    {
      "cell_type": "code",
      "source": [
        "s2={6,3,2,1,5}"
      ],
      "metadata": {
        "id": "Q45kCcSbd4NL"
      },
      "execution_count": 97,
      "outputs": []
    },
    {
      "cell_type": "code",
      "source": [
        "type(s2)"
      ],
      "metadata": {
        "colab": {
          "base_uri": "https://localhost:8080/"
        },
        "id": "470ogHdSd6-4",
        "outputId": "30b50c05-17c0-4e62-9633-76b970d2063d"
      },
      "execution_count": 98,
      "outputs": [
        {
          "output_type": "execute_result",
          "data": {
            "text/plain": [
              "set"
            ]
          },
          "metadata": {},
          "execution_count": 98
        }
      ]
    },
    {
      "cell_type": "markdown",
      "source": [
        "Q1"
      ],
      "metadata": {
        "id": "qEWrH3PPpDUS"
      }
    },
    {
      "cell_type": "code",
      "source": [
        "lst = []\n",
        "  \n",
        "# number of elements as input\n",
        "n = int(input(\"Enter number of elements : \"))\n",
        "  \n",
        "# iterating till the range\n",
        "for i in range(0, n):\n",
        "    ele = int(input())\n",
        "  \n",
        "    lst.append(ele) # adding the element\n",
        "      \n",
        "print(lst)"
      ],
      "metadata": {
        "colab": {
          "base_uri": "https://localhost:8080/"
        },
        "id": "TiJIPEMzeB1_",
        "outputId": "0cb842bd-cb28-47b5-d87d-a1b9ced43a8e"
      },
      "execution_count": 99,
      "outputs": [
        {
          "output_type": "stream",
          "name": "stdout",
          "text": [
            "Enter number of elements : 5\n",
            "2\n",
            "4\n",
            "6\n",
            "8\n",
            "5\n",
            "[2, 4, 6, 8, 5]\n"
          ]
        }
      ]
    },
    {
      "cell_type": "markdown",
      "source": [
        "Q2"
      ],
      "metadata": {
        "id": "MClpMJ4ApFYf"
      }
    },
    {
      "cell_type": "code",
      "source": [
        "l=lst.copy()\n",
        "l"
      ],
      "metadata": {
        "colab": {
          "base_uri": "https://localhost:8080/"
        },
        "id": "2fwm9CBxofHH",
        "outputId": "7eb8755b-08e4-434b-e39f-e7d5722d7575"
      },
      "execution_count": 101,
      "outputs": [
        {
          "output_type": "execute_result",
          "data": {
            "text/plain": [
              "[2, 4, 6, 8, 5]"
            ]
          },
          "metadata": {},
          "execution_count": 101
        }
      ]
    },
    {
      "cell_type": "markdown",
      "source": [
        "Q3"
      ],
      "metadata": {
        "id": "bYyEs2OspptZ"
      }
    },
    {
      "cell_type": "code",
      "source": [
        "list_1 = [1, 'a']\n",
        "list_2 = [3, 4, 5]\n",
        "\n",
        "list_joined = list_1 + list_2\n",
        "print(list_joined)"
      ],
      "metadata": {
        "colab": {
          "base_uri": "https://localhost:8080/"
        },
        "id": "BrZNZs1epOcK",
        "outputId": "293fb269-9db9-463c-8ded-9178e5dbe57a"
      },
      "execution_count": 102,
      "outputs": [
        {
          "output_type": "stream",
          "name": "stdout",
          "text": [
            "[1, 'a', 3, 4, 5]\n"
          ]
        }
      ]
    },
    {
      "cell_type": "markdown",
      "source": [
        "Q4"
      ],
      "metadata": {
        "id": "Hqfzq9Mwpux2"
      }
    },
    {
      "cell_type": "code",
      "source": [
        "test_list = [\"\", \"GeeksforGeeks\", \"\", \"is\", \"best\", \"\"]\n",
        " \n",
        "# Printing original list\n",
        "print(\"Original list is : \" + str(test_list))\n",
        " \n",
        "# using remove() to\n",
        "# perform removal\n",
        "while(\"\" in test_list):\n",
        "    test_list.remove(\"\")\n",
        " \n",
        "# Printing modified list\n",
        "print(\"Modified list is : \" + str(test_list))"
      ],
      "metadata": {
        "colab": {
          "base_uri": "https://localhost:8080/"
        },
        "id": "wXZrrSfTpwjb",
        "outputId": "eb53acf6-de52-46d8-df49-2873a756c6db"
      },
      "execution_count": 104,
      "outputs": [
        {
          "output_type": "stream",
          "name": "stdout",
          "text": [
            "Original list is : ['', 'GeeksforGeeks', '', 'is', 'best', '']\n",
            "Modified list is : ['GeeksforGeeks', 'is', 'best']\n"
          ]
        }
      ]
    },
    {
      "cell_type": "markdown",
      "source": [
        "Q5"
      ],
      "metadata": {
        "id": "8yVAQBsnp27F"
      }
    },
    {
      "cell_type": "code",
      "source": [
        "mylist = [21, 5, 8, 52, 21, 87]\n",
        "r_item = 21\n",
        "\n",
        "#remove the item for all its occurrences\n",
        "for item in mylist:\n",
        "\tif(item==r_item):\n",
        "\t\tmylist.remove(r_item)\n",
        "\n",
        "print(mylist)"
      ],
      "metadata": {
        "colab": {
          "base_uri": "https://localhost:8080/"
        },
        "id": "qnm2GOR1p0Nl",
        "outputId": "2da756c5-3c88-4f66-fc27-2f6e6b7cce5c"
      },
      "execution_count": 105,
      "outputs": [
        {
          "output_type": "stream",
          "name": "stdout",
          "text": [
            "[5, 8, 52, 87]\n"
          ]
        }
      ]
    },
    {
      "cell_type": "markdown",
      "source": [
        "Q6"
      ],
      "metadata": {
        "id": "l6JIjGCuqCXF"
      }
    },
    {
      "cell_type": "code",
      "source": [
        "min([3, 5, 9, 1, -5])\n",
        "max([3, 5, 9, 1, -5])\n"
      ],
      "metadata": {
        "colab": {
          "base_uri": "https://localhost:8080/"
        },
        "id": "izthYgJNqBNA",
        "outputId": "83502ad7-24a9-4aca-adf9-719625f02fb7"
      },
      "execution_count": 112,
      "outputs": [
        {
          "output_type": "execute_result",
          "data": {
            "text/plain": [
              "9"
            ]
          },
          "metadata": {},
          "execution_count": 112
        }
      ]
    },
    {
      "cell_type": "code",
      "source": [
        "import numpy\n",
        "numpy.mean([3, 5, 9, 1, -5])"
      ],
      "metadata": {
        "colab": {
          "base_uri": "https://localhost:8080/"
        },
        "id": "zqbCEuwUqqnc",
        "outputId": "8ad85919-7725-4185-9fff-03f00fcc7363"
      },
      "execution_count": 111,
      "outputs": [
        {
          "output_type": "execute_result",
          "data": {
            "text/plain": [
              "2.6"
            ]
          },
          "metadata": {},
          "execution_count": 111
        }
      ]
    },
    {
      "cell_type": "markdown",
      "source": [
        "Q7"
      ],
      "metadata": {
        "id": "K7a21oGmq4e1"
      }
    },
    {
      "cell_type": "code",
      "source": [
        "l=[3, 5, 9, 1, -5,2,5,23,34,5]\n"
      ],
      "metadata": {
        "id": "E0ZDBgfWq2g6"
      },
      "execution_count": 113,
      "outputs": []
    },
    {
      "cell_type": "code",
      "source": [
        "l.sort(reverse=True)"
      ],
      "metadata": {
        "id": "tUitceoxrLD-"
      },
      "execution_count": 114,
      "outputs": []
    },
    {
      "cell_type": "code",
      "source": [
        "l\n"
      ],
      "metadata": {
        "colab": {
          "base_uri": "https://localhost:8080/"
        },
        "id": "U-xACLnYrRU4",
        "outputId": "4f49683c-d4cc-4c79-e278-c2115c3863c5"
      },
      "execution_count": 115,
      "outputs": [
        {
          "output_type": "execute_result",
          "data": {
            "text/plain": [
              "[34, 23, 9, 5, 5, 5, 3, 2, 1, -5]"
            ]
          },
          "metadata": {},
          "execution_count": 115
        }
      ]
    },
    {
      "cell_type": "markdown",
      "source": [
        "Q8"
      ],
      "metadata": {
        "id": "tYejR9q2rZNe"
      }
    },
    {
      "cell_type": "code",
      "source": [
        "# Python program to count and\n",
        "# print all palindrome numbers in a list.\n",
        "\n",
        "\n",
        "def palindromeNumbers(list_a):\n",
        "\n",
        "\tc = 0\n",
        "\n",
        "\t# loop till list is not empty\n",
        "\tfor i in list_a:\n",
        "\n",
        "\t\t# Find reverse of current number\n",
        "\t\tt = i\n",
        "\t\trev = 0\n",
        "\t\twhile t > 0:\n",
        "\t\t\trev = rev * 10 + t % 10\n",
        "\t\t\tt = t // 10\n",
        "\n",
        "\t\t# compare rev with the current number\n",
        "\t\tif rev == i:\n",
        "\t\t\tprint(i)\n",
        "\t\t\tc = c + 1\n",
        "\n",
        "\tprint()\n",
        "\tprint(\"Total palindrome nos. are\", c)\n",
        "\tprint()\n",
        "\n",
        "# Driver code\n",
        "\n",
        "\n",
        "def main():\n",
        "\n",
        "\tlist_a = [10, 121, 133, 155, 141, 252]\n",
        "\tpalindromeNumbers(list_a)\n",
        "\n",
        "\tlist_b = [111, 220, 784, 565, 498, 787, 363]\n",
        "\tpalindromeNumbers(list_b)\n",
        "\n",
        "\n",
        "if __name__ == \"__main__\":\n",
        "\tmain()\t\t\t # main function call\n"
      ],
      "metadata": {
        "colab": {
          "base_uri": "https://localhost:8080/"
        },
        "id": "-t4lI4m1rTKk",
        "outputId": "44d00100-909d-49fc-cec5-277656eea1d9"
      },
      "execution_count": 116,
      "outputs": [
        {
          "output_type": "stream",
          "name": "stdout",
          "text": [
            "121\n",
            "141\n",
            "252\n",
            "\n",
            "Total palindrome nos. are 3\n",
            "\n",
            "111\n",
            "565\n",
            "787\n",
            "363\n",
            "\n",
            "Total palindrome nos. are 4\n",
            "\n"
          ]
        }
      ]
    },
    {
      "cell_type": "markdown",
      "source": [
        "Q9"
      ],
      "metadata": {
        "id": "mzqFISncrbAP"
      }
    },
    {
      "cell_type": "code",
      "source": [
        "# Python3 code to convert a tuple\n",
        "# into a string using a for loop\n",
        "\n",
        "\n",
        "def convertTuple(tup):\n",
        "\t\t# initialize an empty string\n",
        "\tstr = ''\n",
        "\tfor item in tup:\n",
        "\t\tstr = str + item\n",
        "\treturn str\n",
        "\n",
        "\n",
        "# Driver code\n",
        "tuple = ('g', 'e', 'e', 'k', 's')\n",
        "str = convertTuple(tuple)\n",
        "print(str)\n"
      ],
      "metadata": {
        "colab": {
          "base_uri": "https://localhost:8080/"
        },
        "id": "IEO2NLMGracN",
        "outputId": "944eb34f-c64c-4cd1-ec52-e172722926be"
      },
      "execution_count": 117,
      "outputs": [
        {
          "output_type": "stream",
          "name": "stdout",
          "text": [
            "geeks\n"
          ]
        }
      ]
    },
    {
      "cell_type": "markdown",
      "source": [
        "Q10"
      ],
      "metadata": {
        "id": "DOBk-wRSriP_"
      }
    },
    {
      "cell_type": "code",
      "source": [
        "#create a tuple\n",
        "tuplex = 2, 4, 5, 6, 2, 3, 4, 4, 7 \n",
        "print(tuplex)\n",
        "#return the number of times it appears in the tuple.\n",
        "count = tuplex.count(4)\n",
        "print(count)\n"
      ],
      "metadata": {
        "colab": {
          "base_uri": "https://localhost:8080/"
        },
        "id": "ZyIUzw85rhhS",
        "outputId": "f6a6c3be-6ab1-4479-c232-57d0252ac9d8"
      },
      "execution_count": 118,
      "outputs": [
        {
          "output_type": "stream",
          "name": "stdout",
          "text": [
            "(2, 4, 5, 6, 2, 3, 4, 4, 7)\n",
            "3\n"
          ]
        }
      ]
    },
    {
      "cell_type": "markdown",
      "source": [
        "Q11"
      ],
      "metadata": {
        "id": "KuLgiqNfrqSL"
      }
    },
    {
      "cell_type": "code",
      "source": [
        "# Python3 program to convert a\n",
        "# list into a tuple\n",
        "def convert(list):\n",
        "\treturn list\n",
        "# Driver function\n",
        "list = [1, 2, 3, 4]\n",
        "print(convert(list))\n"
      ],
      "metadata": {
        "colab": {
          "base_uri": "https://localhost:8080/"
        },
        "id": "sEfgja-GrpI1",
        "outputId": "4fc7f01b-aa2b-4aac-a007-75ce586454cc"
      },
      "execution_count": 123,
      "outputs": [
        {
          "output_type": "stream",
          "name": "stdout",
          "text": [
            "[1, 2, 3, 4]\n"
          ]
        }
      ]
    },
    {
      "cell_type": "markdown",
      "source": [
        "Q12"
      ],
      "metadata": {
        "id": "aQiddzD8sP64"
      }
    },
    {
      "cell_type": "code",
      "source": [
        "# Reversing a tuple using slicing technique\n",
        "# New tuple is created\n",
        "def Reverse(tuples):\n",
        "\tnew_tup = tuples[::-1]\n",
        "\treturn new_tup\n",
        "\t\n",
        "# Driver Code\n",
        "tuples = ('z','a','d','f','g','e','e','k')\n",
        "print(Reverse(tuples))\n"
      ],
      "metadata": {
        "colab": {
          "base_uri": "https://localhost:8080/"
        },
        "id": "w0wSN_ZnryJ8",
        "outputId": "2d0f60e6-c8da-4490-e2b9-609623c04d58"
      },
      "execution_count": 124,
      "outputs": [
        {
          "output_type": "stream",
          "name": "stdout",
          "text": [
            "('k', 'e', 'e', 'g', 'f', 'd', 'a', 'z')\n"
          ]
        }
      ]
    },
    {
      "cell_type": "markdown",
      "source": [
        "Q13"
      ],
      "metadata": {
        "id": "XI3i8_gjsREE"
      }
    },
    {
      "cell_type": "code",
      "source": [
        "# Python program to remove empty tuples from a\n",
        "# list of tuples function to remove empty tuples\n",
        "# using list comprehension\n",
        "def Remove(tuples):\n",
        "\ttuples = [t for t in tuples if t]\n",
        "\treturn tuples\n",
        "\n",
        "# Driver Code\n",
        "tuples = [(), ('ram','15','8'), (), ('laxman', 'sita'),\n",
        "\t\t('krishna', 'akbar', '45'), ('',''),()]\n",
        "print(Remove(tuples))\n"
      ],
      "metadata": {
        "colab": {
          "base_uri": "https://localhost:8080/"
        },
        "id": "wJ_QT8uVsPV8",
        "outputId": "16da0016-aa53-42a6-df95-da3454a5f7ee"
      },
      "execution_count": 125,
      "outputs": [
        {
          "output_type": "stream",
          "name": "stdout",
          "text": [
            "[('ram', '15', '8'), ('laxman', 'sita'), ('krishna', 'akbar', '45'), ('', '')]\n"
          ]
        }
      ]
    },
    {
      "cell_type": "markdown",
      "source": [
        "Q14"
      ],
      "metadata": {
        "id": "RumX8eAgsap7"
      }
    },
    {
      "cell_type": "code",
      "source": [
        "l = [(10, 20, 40), (40, 50, 60), (70, 80, 90)]\n",
        "print([t[:-1] + (100,) for t in l])\n"
      ],
      "metadata": {
        "colab": {
          "base_uri": "https://localhost:8080/"
        },
        "id": "UFBz7VLQsZ32",
        "outputId": "6fd281e1-2ac3-4dd4-9e88-c22a14e14b1c"
      },
      "execution_count": 126,
      "outputs": [
        {
          "output_type": "stream",
          "name": "stdout",
          "text": [
            "[(10, 20, 100), (40, 50, 100), (70, 80, 100)]\n"
          ]
        }
      ]
    },
    {
      "cell_type": "markdown",
      "source": [
        "Q15"
      ],
      "metadata": {
        "id": "wo9Sfke-sfJW"
      }
    },
    {
      "cell_type": "code",
      "source": [
        "a=(1,2,3,4,5,6,7,8,9,10,11)\n",
        "print(\"Fifth element from first:\",a[4])\n",
        "print(\"Fifth element from last:\",a[-5])"
      ],
      "metadata": {
        "colab": {
          "base_uri": "https://localhost:8080/"
        },
        "id": "Qf8IuKAfseQp",
        "outputId": "8cf70d05-f282-4380-8284-b869f1b77041"
      },
      "execution_count": 128,
      "outputs": [
        {
          "output_type": "stream",
          "name": "stdout",
          "text": [
            "Fifth element from first: 5\n",
            "Fifth element from last: 7\n"
          ]
        }
      ]
    },
    {
      "cell_type": "markdown",
      "source": [
        "Q16"
      ],
      "metadata": {
        "id": "5MRn_ChFs3do"
      }
    },
    {
      "cell_type": "code",
      "source": [
        "x = {1,2,3,4}\n",
        "y = {4,5,6,7}\n",
        "z = {8}\n",
        "print(\"Original set elements:\")\n",
        "print(x)\n",
        "print(y)\n",
        "print(z)\n",
        "print(\"\\nConfirm two given sets have no element(s) in common:\")\n",
        "print(\"\\nCompare x and y:\")\n",
        "print(x.isdisjoint(y))\n",
        "print(\"\\nCompare x and z:\")\n",
        "print(z.isdisjoint(x))\n",
        "print(\"\\nCompare y and z:\")\n",
        "print(y.isdisjoint(z))\n"
      ],
      "metadata": {
        "id": "Bn0s4e6hswNt"
      },
      "execution_count": null,
      "outputs": []
    },
    {
      "cell_type": "markdown",
      "source": [
        "Q17"
      ],
      "metadata": {
        "id": "J9hk4-Azs4jb"
      }
    },
    {
      "cell_type": "code",
      "source": [
        "tuplex = (\"w\", 3, \"r\", \"e\", \"s\", \"o\", \"u\", \"r\", \"c\", \"e\")\n",
        "print(\"r\" in tuplex)\n",
        "print(5 in tuplex)\n"
      ],
      "metadata": {
        "colab": {
          "base_uri": "https://localhost:8080/"
        },
        "id": "j0OwM5H_s6dP",
        "outputId": "2497ac73-ccd7-44e4-ef81-5370a8c2dae4"
      },
      "execution_count": 129,
      "outputs": [
        {
          "output_type": "stream",
          "name": "stdout",
          "text": [
            "True\n",
            "False\n"
          ]
        }
      ]
    },
    {
      "cell_type": "markdown",
      "source": [
        "Q18"
      ],
      "metadata": {
        "id": "7iJVuEB2tDFH"
      }
    },
    {
      "cell_type": "code",
      "source": [
        "nums = {1, 3, 5, 7, 9, 11}\n",
        "print(\"Original sets(nums): \",nums,\"\\n\")\n",
        "print(\"Test if 6 exists in nums:\")\n",
        "print(6 in nums)\n",
        "print(\"Test if 7 exists in nums:\")\n",
        "print(7 in nums)\n",
        "print(\"Test if 11 exists in nums:\")\n",
        "print(11 in nums)\n",
        "print(\"Test if 0 exists in nums:\")\n",
        "print(0 in nums)\n",
        "print(\"\\nTest if 6 is not in nums\")\n",
        "print(6 not in nums)\n",
        "print(\"Test if 7 is not in nums\")\n",
        "print(7 not in nums)\n",
        "print(\"Test if 11 is not in nums\")\n",
        "print(11 not in nums)\n",
        "print(\"Test if 0 is not in nums\")\n",
        "print(0 not in nums)\n"
      ],
      "metadata": {
        "colab": {
          "base_uri": "https://localhost:8080/"
        },
        "id": "BqLJUZhPtB4e",
        "outputId": "82e6a3fa-f2f4-40e1-ac07-fe872c55bb9e"
      },
      "execution_count": 130,
      "outputs": [
        {
          "output_type": "stream",
          "name": "stdout",
          "text": [
            "Original sets(nums):  {1, 3, 5, 7, 9, 11} \n",
            "\n",
            "Test if 6 exists in nums:\n",
            "False\n",
            "Test if 7 exists in nums:\n",
            "True\n",
            "Test if 11 exists in nums:\n",
            "True\n",
            "Test if 0 exists in nums:\n",
            "False\n",
            "\n",
            "Test if 6 is not in nums\n",
            "True\n",
            "Test if 7 is not in nums\n",
            "False\n",
            "Test if 11 is not in nums\n",
            "False\n",
            "Test if 0 is not in nums\n",
            "True\n"
          ]
        }
      ]
    },
    {
      "cell_type": "markdown",
      "source": [
        "Q19"
      ],
      "metadata": {
        "id": "9DRDklFhtIqa"
      }
    },
    {
      "cell_type": "code",
      "source": [
        "nums = {10,20,30,40,50}\n",
        "print(\"Original set: \",nums)\n",
        "print(\"If nums is superset of itself?\")\n",
        "print(nums.issuperset(nums))\n",
        "num1 = {1, 2, 3, 4, 5, 7}\n",
        "num2 = {2, 4}\n",
        "num3 = {2, 4}\n",
        "print(\"\\nnum1 = \", num1)\n",
        "print(\"num2 = \", num2)\n",
        "print(\"num3 = \", num3)\n",
        "print(\"If mum1 is superset of num2:\")\n",
        "print(num1>num2)\n",
        "print(\"Compare mum2 and num3:\")\n",
        "print(\"If mum2 is superset of num3:\")\n",
        "print(num2>num3)\n",
        "print(\"If mum3 is superset of num2:\")\n",
        "print(num3>num2)\n"
      ],
      "metadata": {
        "colab": {
          "base_uri": "https://localhost:8080/"
        },
        "id": "R5yethNMtF23",
        "outputId": "dd331494-cab3-4146-d781-820660cdf1a3"
      },
      "execution_count": 131,
      "outputs": [
        {
          "output_type": "stream",
          "name": "stdout",
          "text": [
            "Original set:  {40, 10, 50, 20, 30}\n",
            "If nums is superset of itself?\n",
            "True\n",
            "\n",
            "num1 =  {1, 2, 3, 4, 5, 7}\n",
            "num2 =  {2, 4}\n",
            "num3 =  {2, 4}\n",
            "If mum1 is superset of num2:\n",
            "True\n",
            "Compare mum2 and num3:\n",
            "If mum2 is superset of num3:\n",
            "False\n",
            "If mum3 is superset of num2:\n",
            "False\n"
          ]
        }
      ]
    },
    {
      "cell_type": "markdown",
      "source": [
        "Q20"
      ],
      "metadata": {
        "id": "dAWh8KNwtVIl"
      }
    },
    {
      "cell_type": "code",
      "source": [
        "# Program to perform different set operations\n",
        "# as we do in mathematics\n",
        "\n",
        "# sets are define\n",
        "A = {0, 2, 4, 6, 8};\n",
        "B = {1, 2, 3, 4, 5};\n",
        "\n",
        "# union\n",
        "print(\"Union :\", A | B)\n",
        "\n",
        "# intersection\n",
        "print(\"Intersection :\", A & B)\n",
        "\n",
        "# difference\n",
        "print(\"Difference :\", A - B)\n",
        "\n",
        "# symmetric difference\n",
        "print(\"Symmetric difference :\", A ^ B)\n"
      ],
      "metadata": {
        "colab": {
          "base_uri": "https://localhost:8080/"
        },
        "id": "xygl7fKttUlG",
        "outputId": "07cc1dab-ffd4-4c6a-95e7-d157aaf2f041"
      },
      "execution_count": 132,
      "outputs": [
        {
          "output_type": "stream",
          "name": "stdout",
          "text": [
            "Union : {0, 1, 2, 3, 4, 5, 6, 8}\n",
            "Intersection : {2, 4}\n",
            "Difference : {0, 8, 6}\n",
            "Symmetric difference : {0, 1, 3, 5, 6, 8}\n"
          ]
        }
      ]
    },
    {
      "cell_type": "markdown",
      "source": [
        "Q21"
      ],
      "metadata": {
        "id": "qfJushbpthIS"
      }
    },
    {
      "cell_type": "code",
      "source": [
        "sn1 = {1,2,3,4,5}\n",
        "sn2 = {4,5,6,7,8}\n",
        "print(\"Original sets:\")\n",
        "print(sn1)\n",
        "print(sn2)\n",
        "print(\"\\nRemove the intersection of a 2nd set from the 1st set using difference_update():\")\n",
        "sn1.difference_update(sn2)\n",
        "print(\"sn1: \",sn1)\n",
        "print(\"sn2: \",sn2)\n",
        "sn1 = {1,2,3,4,5}\n",
        "sn2 = {4,5,6,7,8}\n",
        "print(\"\\nRemove the intersection of a 2nd set from the 1st set using -= operator:\")\n",
        "sn1-=sn2\n",
        "print(\"sn1: \",sn1)\n",
        "print(\"sn2: \",sn2)\n"
      ],
      "metadata": {
        "colab": {
          "base_uri": "https://localhost:8080/"
        },
        "id": "ngmaU_1BtbGZ",
        "outputId": "5f67023a-fbf9-4ae0-cf9f-b855196f4332"
      },
      "execution_count": 133,
      "outputs": [
        {
          "output_type": "stream",
          "name": "stdout",
          "text": [
            "Original sets:\n",
            "{1, 2, 3, 4, 5}\n",
            "{4, 5, 6, 7, 8}\n",
            "\n",
            "Remove the intersection of a 2nd set from the 1st set using difference_update():\n",
            "sn1:  {1, 2, 3}\n",
            "sn2:  {4, 5, 6, 7, 8}\n",
            "\n",
            "Remove the intersection of a 2nd set from the 1st set using -= operator:\n",
            "sn1:  {1, 2, 3}\n",
            "sn2:  {4, 5, 6, 7, 8}\n"
          ]
        }
      ]
    },
    {
      "cell_type": "code",
      "source": [],
      "metadata": {
        "id": "laDMNKvxti11"
      },
      "execution_count": null,
      "outputs": []
    }
  ]
}