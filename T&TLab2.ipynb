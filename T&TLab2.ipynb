{
  "nbformat": 4,
  "nbformat_minor": 0,
  "metadata": {
    "colab": {
      "provenance": [],
      "authorship_tag": "ABX9TyPQqkNVv4AKXSEDB0v/H5bI",
      "include_colab_link": true
    },
    "kernelspec": {
      "name": "python3",
      "display_name": "Python 3"
    },
    "language_info": {
      "name": "python"
    }
  },
  "cells": [
    {
      "cell_type": "markdown",
      "metadata": {
        "id": "view-in-github",
        "colab_type": "text"
      },
      "source": [
        "<a href=\"https://colab.research.google.com/github/kshitizkool/Tools-and-Techniques-Lab/blob/main/T%26TLab2.ipynb\" target=\"_parent\"><img src=\"https://colab.research.google.com/assets/colab-badge.svg\" alt=\"Open In Colab\"/></a>"
      ]
    },
    {
      "cell_type": "markdown",
      "source": [
        "# Bitwise XOR"
      ],
      "metadata": {
        "id": "ncFWWjuWK45Q"
      }
    },
    {
      "cell_type": "code",
      "execution_count": null,
      "metadata": {
        "colab": {
          "base_uri": "https://localhost:8080/"
        },
        "id": "C-8byonMKY3Z",
        "outputId": "4f979907-4a8c-49cd-ef23-72e11be10166"
      },
      "outputs": [
        {
          "output_type": "stream",
          "name": "stdout",
          "text": [
            "35\n",
            "Odd\n"
          ]
        }
      ],
      "source": [
        "n = int(input())\n",
        "if ((n ^ 1) == (n + 1)):\n",
        "  flag=False\n",
        "flag=True\n",
        "print(\"Odd\") if flag else print(\"Even\")"
      ]
    },
    {
      "cell_type": "markdown",
      "source": [
        "# Bitwise AND"
      ],
      "metadata": {
        "id": "wInY9yxmLJdl"
      }
    },
    {
      "cell_type": "code",
      "source": [
        "  n = int(input())\n",
        "  if(not(n & 1)):\n",
        "    flag=False\n",
        "  else:\n",
        "    flag=True\n",
        "  print(\"Odd\") if flag else print(\"Even\")"
      ],
      "metadata": {
        "colab": {
          "base_uri": "https://localhost:8080/"
        },
        "id": "QKOGiz9cLLu4",
        "outputId": "c11b2569-5597-48d0-fd28-bb2466b6ae1d"
      },
      "execution_count": null,
      "outputs": [
        {
          "output_type": "stream",
          "name": "stdout",
          "text": [
            "12\n",
            "Even\n"
          ]
        }
      ]
    },
    {
      "cell_type": "markdown",
      "source": [
        "# Bitwise OR"
      ],
      "metadata": {
        "id": "O8IJh0WmLSFY"
      }
    },
    {
      "cell_type": "code",
      "source": [
        "n = int(input())\n",
        "if (n | 1 > n):\n",
        "  flag=False\n",
        "else:\n",
        "  flag=True\n",
        "print(\"Odd\") if flag else print(\"Even\")"
      ],
      "metadata": {
        "colab": {
          "base_uri": "https://localhost:8080/"
        },
        "id": "Dppr7JqNPtl1",
        "outputId": "3c29747b-3c69-4489-cff5-21b0dfdb7cba"
      },
      "execution_count": null,
      "outputs": [
        {
          "output_type": "stream",
          "name": "stdout",
          "text": [
            "34\n",
            "Even\n"
          ]
        }
      ]
    },
    {
      "cell_type": "markdown",
      "source": [
        "#Q2"
      ],
      "metadata": {
        "id": "jpY-dqDoqb7G"
      }
    },
    {
      "cell_type": "code",
      "source": [
        "def bitodecistr(n):\n",
        "    p = w = 0\n",
        "    while n > 0:\n",
        "        w += n % 10 * 2 ** p\n",
        "        p += 1\n",
        "        n = n // 10\n",
        "    return str(w)"
      ],
      "metadata": {
        "id": "8KIz1r8Tph1X"
      },
      "execution_count": 16,
      "outputs": []
    },
    {
      "cell_type": "code",
      "source": [
        "binary = f'{n:b}'\n",
        "formatted = \"0\"*(32-len(binary))+binary\n",
        "s = decimal = \"\"\n",
        "f = False\n",
        "for i in range(len(formatted)):\n",
        "    if i % 8 == 0 and f:\n",
        "        print(s, end = \" \")\n",
        "        decimal = decimal + bitodecistr(int(s))  + \" \"\n",
        "        s = \"\"\n",
        "    s = s + formatted[i]\n",
        "    f = True\n",
        "print(s)\n",
        "decimal = decimal + bitodecistr(int(s))  + \" \"\n",
        "print(decimal)"
      ],
      "metadata": {
        "colab": {
          "base_uri": "https://localhost:8080/"
        },
        "id": "PR9lZfoHpk_y",
        "outputId": "28245932-10f7-4a4a-db85-e06d21a97782"
      },
      "execution_count": 17,
      "outputs": [
        {
          "output_type": "stream",
          "name": "stdout",
          "text": [
            "00000000 00000000 00000000 00100011\n",
            "0 0 0 35 \n"
          ]
        }
      ]
    },
    {
      "cell_type": "markdown",
      "source": [
        "# Q3"
      ],
      "metadata": {
        "id": "Nw26Jrp5qgEt"
      }
    },
    {
      "cell_type": "code",
      "source": [
        "def bitodecistr(n):\n",
        "    p = w = 0\n",
        "    while n > 0:\n",
        "        w += n % 10 * 2 ** p\n",
        "        p += 1\n",
        "        n = n // 10\n",
        "    return str(w)\n"
      ],
      "metadata": {
        "id": "NTxdxGygpozs"
      },
      "execution_count": 18,
      "outputs": []
    },
    {
      "cell_type": "code",
      "source": [
        "\n",
        "B = [f'{int(i):b}' for i in decimal.split()]\n",
        "\n",
        "def bits8(n):\n",
        "    return \"0\"*(8-len(n))+n\n",
        "#B = [f'{int(input()):b}' for _ in range(3)]\n",
        "B = list(map(bits8, B))\n",
        "s = \"\".join(B)\n",
        "print(bitodecistr(int(s)))"
      ],
      "metadata": {
        "colab": {
          "base_uri": "https://localhost:8080/"
        },
        "id": "XlG2exMfpv14",
        "outputId": "bf802cad-edbd-4ced-9894-9780e8a38e4e"
      },
      "execution_count": 19,
      "outputs": [
        {
          "output_type": "stream",
          "name": "stdout",
          "text": [
            "35\n"
          ]
        }
      ]
    }
  ]
}