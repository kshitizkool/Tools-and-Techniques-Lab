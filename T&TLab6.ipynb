{
  "cells": [
    {
      "cell_type": "markdown",
      "metadata": {
        "id": "view-in-github",
        "colab_type": "text"
      },
      "source": [
        "<a href=\"https://colab.research.google.com/github/kshitizkool/Tools-and-Techniques-Lab/blob/main/T%26TLab6.ipynb\" target=\"_parent\"><img src=\"https://colab.research.google.com/assets/colab-badge.svg\" alt=\"Open In Colab\"/></a>"
      ]
    },
    {
      "cell_type": "code",
      "execution_count": null,
      "id": "4983f15f",
      "metadata": {
        "id": "4983f15f",
        "outputId": "1acfdc3c-4920-4aa4-ce50-1c8f965b2380"
      },
      "outputs": [
        {
          "data": {
            "text/plain": [
              "['odd', 'odd', 'even', 'odd', 'even', 'even', 'even', 'even', 'odd', 'even']"
            ]
          },
          "execution_count": 2,
          "metadata": {},
          "output_type": "execute_result"
        }
      ],
      "source": [
        "def f(n):\n",
        "    if n%2==0:\n",
        "        return \"even\"\n",
        "    else:\n",
        "        return \"odd\"\n",
        "lst=[5,3,6,9,8,0,12,4,7,68]\n",
        "list(map(f,lst))"
      ]
    },
    {
      "cell_type": "code",
      "execution_count": null,
      "id": "7063cf51",
      "metadata": {
        "id": "7063cf51",
        "outputId": "2f9233a5-05e6-447e-b33b-09edcf82c009"
      },
      "outputs": [
        {
          "data": {
            "text/plain": [
              "14"
            ]
          },
          "execution_count": 11,
          "metadata": {},
          "output_type": "execute_result"
        }
      ],
      "source": [
        "s=lambda x,y:x+y\n",
        "s(4,10)"
      ]
    },
    {
      "cell_type": "code",
      "execution_count": null,
      "id": "25d3844a",
      "metadata": {
        "id": "25d3844a",
        "outputId": "79730d99-e015-4a77-be5b-b6e616876c08"
      },
      "outputs": [
        {
          "data": {
            "text/plain": [
              "6"
            ]
          },
          "execution_count": 7,
          "metadata": {},
          "output_type": "execute_result"
        }
      ],
      "source": [
        "d=lambda t,d:t-d\n",
        "d(14,8)"
      ]
    },
    {
      "cell_type": "code",
      "execution_count": null,
      "id": "876c6f35",
      "metadata": {
        "id": "876c6f35",
        "outputId": "2ed6b2ba-ebed-4763-e933-97703c00c736"
      },
      "outputs": [
        {
          "data": {
            "text/plain": [
              "18"
            ]
          },
          "execution_count": 12,
          "metadata": {},
          "output_type": "execute_result"
        }
      ],
      "source": [
        "#Q1\n",
        "x=lambda x:15+x\n",
        "x(3)"
      ]
    },
    {
      "cell_type": "code",
      "execution_count": null,
      "id": "c36de0a4",
      "metadata": {
        "id": "c36de0a4",
        "outputId": "1dea95d9-6b32-4b48-96c0-c1dabfddf0c9"
      },
      "outputs": [
        {
          "data": {
            "text/plain": [
              "15"
            ]
          },
          "execution_count": 13,
          "metadata": {},
          "output_type": "execute_result"
        }
      ],
      "source": [
        "#Q1\n",
        "x=lambda x,y:x*y\n",
        "x(5,3)"
      ]
    },
    {
      "cell_type": "code",
      "execution_count": null,
      "id": "3ed52907",
      "metadata": {
        "id": "3ed52907",
        "outputId": "6be490cf-07e3-497c-e47e-ee2f47d2f2e3"
      },
      "outputs": [
        {
          "name": "stdout",
          "output_type": "stream",
          "text": [
            "[('Social sciences', 82), ('English', 88), ('Science', 90), ('Maths', 97)]\n"
          ]
        }
      ],
      "source": [
        "#Q2\n",
        "lst = [('English', 88), ('Science', 90), ('Maths', 97), ('Social sciences', 82)]\n",
        "sorted_list = sorted(lst, key=lambda x: x[1])\n",
        "print(sorted_list)"
      ]
    },
    {
      "cell_type": "code",
      "execution_count": null,
      "id": "48403f7f",
      "metadata": {
        "id": "48403f7f",
        "outputId": "3d91d12c-49cf-456e-b77f-d6b323c75d20"
      },
      "outputs": [
        {
          "name": "stdout",
          "output_type": "stream",
          "text": [
            "Even numbers: [2, 4, 6, 8, 10]\n",
            "Odd numbers: [1, 3, 5, 7, 9]\n"
          ]
        }
      ],
      "source": [
        "#Q3\n",
        "lst = [1, 2, 3, 4, 5, 6, 7, 8, 9, 10]\n",
        "even_list = list(filter(lambda x: x % 2 == 0, lst))\n",
        "\n",
        "odd_list = list(filter(lambda x: x % 2 != 0, lst))\n",
        "\n",
        "print(\"Even numbers:\", even_list)\n",
        "print(\"Odd numbers:\", odd_list)"
      ]
    },
    {
      "cell_type": "code",
      "execution_count": null,
      "id": "e30bf8c2",
      "metadata": {
        "id": "e30bf8c2",
        "outputId": "099fa179-db85-4bb9-ebcb-2996710cd6c4"
      },
      "outputs": [
        {
          "data": {
            "text/plain": [
              "['True', 'False']"
            ]
          },
          "execution_count": 44,
          "metadata": {},
          "output_type": "execute_result"
        }
      ],
      "source": [
        "#Q5\n",
        "def f(s):\n",
        "    if s.startswith('P'):\n",
        "        return \"True\"\n",
        "    elif s.startswith('p'):\n",
        "        return \"True\"\n",
        "    else:\n",
        "        return \"False\"\n",
        "lst=['Python','Java']\n",
        "start_char = lambda s, char: s.startswith(char)\n",
        "list(map(f,lst))"
      ]
    },
    {
      "cell_type": "code",
      "execution_count": null,
      "id": "dc7709fa",
      "metadata": {
        "id": "dc7709fa",
        "outputId": "f0051b3e-9d24-4b38-a5cd-926a6d9dbe5d"
      },
      "outputs": [
        {
          "data": {
            "text/plain": [
              "[True, False]"
            ]
          },
          "execution_count": 22,
          "metadata": {},
          "output_type": "execute_result"
        }
      ],
      "source": [
        "#Q5\n",
        "starts_with = lambda x: True if x.startswith('P') else False\n",
        "lst=['Python','Java']\n",
        "list(map(starts_with,lst))"
      ]
    },
    {
      "cell_type": "code",
      "execution_count": null,
      "id": "5b921428",
      "metadata": {
        "id": "5b921428"
      },
      "outputs": [],
      "source": [
        "#Q6"
      ]
    },
    {
      "cell_type": "code",
      "execution_count": null,
      "id": "b270ac51",
      "metadata": {
        "id": "b270ac51",
        "outputId": "45638eb2-b41e-42f3-83fe-afce0a2ea634"
      },
      "outputs": [
        {
          "name": "stdout",
          "output_type": "stream",
          "text": [
            "Original arrays:\n",
            "[1, 2, 3, 5, 7, 8, 9, 10]\n",
            "[1, 2, 4, 8, 9]\n",
            "\n",
            "Intersection of the said arrays:  [1, 2, 8, 9]\n"
          ]
        }
      ],
      "source": [
        "#Q7\n",
        "array_nums1 = [1, 2, 3, 5, 7, 8, 9, 10]\n",
        "array_nums2 = [1, 2, 4, 8, 9]\n",
        "print(\"Original arrays:\")\n",
        "print(array_nums1)\n",
        "print(array_nums2)\n",
        "result = list(filter(lambda x: x in array_nums1, array_nums2)) \n",
        "print (\"\\nIntersection of the said arrays: \",result)"
      ]
    },
    {
      "cell_type": "code",
      "execution_count": null,
      "id": "63822ef0",
      "metadata": {
        "id": "63822ef0",
        "outputId": "f06d6f75-74cd-45e2-e296-bf536dc1c2d0"
      },
      "outputs": [
        {
          "name": "stdout",
          "output_type": "stream",
          "text": [
            "Original list of integers:\n",
            "[1, 2, 3, 4, 5, 6, 7, 8, 9, 10]\n",
            "\n",
            "Even numbers from the said list:\n",
            "[2, 4, 6, 8, 10]\n",
            "\n",
            "Odd numbers from the said list:\n",
            "[1, 3, 5, 7, 9]\n"
          ]
        }
      ],
      "source": [
        "#Q8\n",
        "nums = [1, 2, 3, 4, 5, 6, 7, 8, 9, 10]\n",
        "print(\"Original list of integers:\")\n",
        "print(nums)\n",
        "print(\"\\nEven numbers from the said list:\")\n",
        "even_nums = list(filter(lambda x: x%2 == 0, nums))\n",
        "print(even_nums)\n",
        "print(\"\\nOdd numbers from the said list:\")\n",
        "odd_nums = list(filter(lambda x: x%2 != 0, nums))\n",
        "print(odd_nums)"
      ]
    },
    {
      "cell_type": "code",
      "execution_count": null,
      "id": "319f1137",
      "metadata": {
        "id": "319f1137",
        "outputId": "88c1e094-07ce-4644-9ebc-affe9edaee13"
      },
      "outputs": [
        {
          "name": "stdout",
          "output_type": "stream",
          "text": [
            "Original arrays:\n",
            "[-1, 2, -3, 5, 7, 8, 9, -10]\n",
            "\n",
            "Rearrange positive and negative numbers of the said array:\n",
            "[9, 8, 7, 5, 2, -1, -3, -10]\n"
          ]
        }
      ],
      "source": [
        "#Q9\n",
        "array_nums = [-1, 2, -3, 5, 7, 8, 9, -10]\n",
        "print(\"Original arrays:\")\n",
        "print(array_nums)\n",
        "result = sorted(array_nums, key = lambda i: 0 if i == 0 else -1 * i)\n",
        "print(\"\\nRearrange positive and negative numbers of the said array:\")\n",
        "print(result)"
      ]
    },
    {
      "cell_type": "code",
      "execution_count": null,
      "id": "8d210508",
      "metadata": {
        "id": "8d210508",
        "outputId": "0ac9ea03-3854-4531-f49a-e1c780e11a30"
      },
      "outputs": [
        {
          "name": "stdout",
          "output_type": "stream",
          "text": [
            "Orginal list of strings:\n",
            "['php', 'w3r', 'Python', 'abcd', 'Java', 'aaa']\n",
            "\n",
            "List of palindromes:\n",
            "['php', 'aaa']\n"
          ]
        }
      ],
      "source": [
        "#Q10\n",
        "texts = [\"php\", \"w3r\", \"Python\", \"abcd\", \"Java\", \"aaa\"]\n",
        "print(\"Orginal list of strings:\")\n",
        "print(texts) \n",
        "result = list(filter(lambda x: (x == \"\".join(reversed(x))), texts)) \n",
        "print(\"\\nList of palindromes:\")\n",
        "print(result)"
      ]
    },
    {
      "cell_type": "code",
      "execution_count": null,
      "id": "d006ec42",
      "metadata": {
        "id": "d006ec42",
        "outputId": "4de69310-2583-40a3-ac22-1838ae5396c7"
      },
      "outputs": [
        {
          "name": "stdout",
          "output_type": "stream",
          "text": [
            "List with maximum length: [13, 15, 17]\n",
            "List with minimum length: [0]\n"
          ]
        }
      ],
      "source": [
        "#Q11\n",
        "lst = [[0], [1, 3], [5, 7], [9, 11], [13, 15, 17]]\n",
        "\n",
        "max_list = max(lst, key=lambda x: len(x))\n",
        "min_list = min(lst, key=lambda x: len(x))\n",
        "\n",
        "print(\"List with maximum length:\", max_list)\n",
        "print(\"List with minimum length:\", min_list)"
      ]
    },
    {
      "cell_type": "code",
      "execution_count": null,
      "id": "e36ab0d7",
      "metadata": {
        "id": "e36ab0d7",
        "outputId": "7b78d365-1812-4512-94ba-0ae17f759504"
      },
      "outputs": [
        {
          "name": "stdout",
          "output_type": "stream",
          "text": [
            "Original list: [1, 2, 3, 4, 5]\n",
            "Tripled list: [3, 6, 9, 12, 15]\n"
          ]
        }
      ],
      "source": [
        "#Q12\n",
        "lst = [1, 2, 3, 4, 5]\n",
        "result = list(map(lambda x: x*3, lst))\n",
        "print(\"Original list:\", lst)\n",
        "print(\"Tripled list:\", result)"
      ]
    },
    {
      "cell_type": "code",
      "execution_count": null,
      "id": "56349ea0",
      "metadata": {
        "id": "56349ea0",
        "outputId": "2e9de623-97e2-4878-8ad5-919ec27c9eb4"
      },
      "outputs": [
        {
          "name": "stdout",
          "output_type": "stream",
          "text": [
            "List 1: [1, 2, 3]\n",
            "List 2: [4, 5, 6]\n",
            "List 3: [7, 8, 9]\n",
            "Resultant list: [12, 15, 18]\n"
          ]
        }
      ],
      "source": [
        "#Q13\n",
        "list1 = [1, 2, 3]\n",
        "list2 = [4, 5, 6]\n",
        "list3 = [7, 8, 9]\n",
        "\n",
        "result = list(map(lambda x, y, z: x + y + z, list1, list2, list3))\n",
        "\n",
        "print(\"List 1:\", list1)\n",
        "print(\"List 2:\", list2)\n",
        "print(\"List 3:\", list3)\n",
        "print(\"Resultant list:\", result)"
      ]
    },
    {
      "cell_type": "code",
      "execution_count": null,
      "id": "ffd73fe2",
      "metadata": {
        "id": "ffd73fe2",
        "outputId": "84bfbed9-c6f6-4565-d2a3-a7a8f9d124d0"
      },
      "outputs": [
        {
          "name": "stdout",
          "output_type": "stream",
          "text": [
            "Number: 2\n",
            "Bases: [1, 2, 3, 4, 5]\n",
            "Resultant list: [2, 4, 8, 16, 32]\n"
          ]
        }
      ],
      "source": [
        "#Q14\n",
        "num = 2\n",
        "bases = [1, 2, 3, 4, 5]\n",
        "\n",
        "result = list(map(lambda x: num**x, bases))\n",
        "\n",
        "print(\"Number:\", num)\n",
        "print(\"Bases:\", bases)\n",
        "print(\"Resultant list:\", result)"
      ]
    },
    {
      "cell_type": "code",
      "execution_count": null,
      "id": "6c2cb22f",
      "metadata": {
        "id": "6c2cb22f",
        "outputId": "0026bdef-5f1f-43b7-cac4-4b16cbfa53fb"
      },
      "outputs": [
        {
          "name": "stdout",
          "output_type": "stream",
          "text": [
            "Helo Wrd\n",
            "Original sequence: Hello World\n",
            "Uppercase sequence: HELLO WORLD\n",
            "Lowercase sequence: hello world\n",
            "Helo Wrd\n"
          ]
        }
      ],
      "source": [
        "#Q15\n",
        "seq = \"Hello World\"\n",
        "\n",
        "result1 = \"\".join(map(lambda x: x.upper(), seq))\n",
        "result2 = \"\".join(map(lambda x: x.lower(), seq))\n",
        "result3 = list(set(seq))\n",
        "p=\"\"\n",
        "for char in seq:\n",
        "    if char not in p:\n",
        "        p=p+char\n",
        "print(p)\n",
        "\n",
        "print(\"Original sequence:\", seq)\n",
        "print(\"Uppercase sequence:\", result1)\n",
        "print(\"Lowercase sequence:\", result2)\n",
        "print(p)"
      ]
    },
    {
      "cell_type": "code",
      "execution_count": null,
      "id": "989a7dfc",
      "metadata": {
        "id": "989a7dfc"
      },
      "outputs": [],
      "source": []
    }
  ],
  "metadata": {
    "kernelspec": {
      "display_name": "Python 3 (ipykernel)",
      "language": "python",
      "name": "python3"
    },
    "language_info": {
      "codemirror_mode": {
        "name": "ipython",
        "version": 3
      },
      "file_extension": ".py",
      "mimetype": "text/x-python",
      "name": "python",
      "nbconvert_exporter": "python",
      "pygments_lexer": "ipython3",
      "version": "3.9.13"
    },
    "colab": {
      "provenance": [],
      "include_colab_link": true
    }
  },
  "nbformat": 4,
  "nbformat_minor": 5
}